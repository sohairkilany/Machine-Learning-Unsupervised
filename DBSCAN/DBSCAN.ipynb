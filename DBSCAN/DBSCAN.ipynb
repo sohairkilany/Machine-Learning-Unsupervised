{
  "nbformat": 4,
  "nbformat_minor": 0,
  "metadata": {
    "kernelspec": {
      "display_name": "Python 3",
      "language": "python",
      "name": "python3"
    },
    "language_info": {
      "codemirror_mode": {
        "name": "ipython",
        "version": 3
      },
      "file_extension": ".py",
      "mimetype": "text/x-python",
      "name": "python",
      "nbconvert_exporter": "python",
      "pygments_lexer": "ipython3",
      "version": "3.7.6"
    },
    "colab": {
      "name": "DBSCAN.ipynb",
      "provenance": []
    }
  },
  "cells": [
    {
      "cell_type": "markdown",
      "metadata": {
        "id": "uOPRdYLN8Ncw"
      },
      "source": [
        "## **DBSCAN**"
      ]
    },
    {
      "cell_type": "code",
      "metadata": {
        "id": "2vY2Zb-st6UT"
      },
      "source": [
        "import pandas as pd\n",
        "import numpy as np\n",
        "import matplotlib.pyplot as plt\n",
        "import seaborn as sns\n",
        "import warnings\n",
        "from sklearn import metrics\n",
        "warnings.filterwarnings(\"ignore\")"
      ],
      "execution_count": 1,
      "outputs": []
    },
    {
      "cell_type": "markdown",
      "metadata": {
        "id": "oOvOY8lQt6UU"
      },
      "source": [
        "## 1. <a name=\"1\">Read the dataset</a>\n",
        "(<a href=\"#0\">Go to top</a>)\n",
        "\n",
        "First dowmload the data set from this link https://www.kaggle.com/fernandol/countries-of-the-world\n",
        "then import it in python."
      ]
    },
    {
      "cell_type": "code",
      "metadata": {
        "colab": {
          "base_uri": "https://localhost:8080/"
        },
        "id": "sy4bCMf9t6UU",
        "outputId": "eead9f31-d703-4fcc-a0b0-1b656d290629"
      },
      "source": [
        "#read the data\n",
        "\n",
        "data_path = 'countries of the world.csv'  #the path where you downloaded the data\n",
        "df = pd.read_csv(data_path, decimal=',') #\n",
        "\n",
        "print('The shape of the dataset is:', df.shape)"
      ],
      "execution_count": 2,
      "outputs": [
        {
          "output_type": "stream",
          "name": "stdout",
          "text": [
            "The shape of the dataset is: (227, 20)\n"
          ]
        }
      ]
    },
    {
      "cell_type": "markdown",
      "metadata": {
        "id": "1-L1oj8It6UV"
      },
      "source": [
        "## 2. <a name=\"2\">Data investigation</a>\n",
        "(<a href=\"#0\">Go to top</a>)\n",
        "\n",
        "in this part you need to check the data quality and assess any issues in the data as:\n",
        "- null values in each column \n",
        "- each column has the proper data type\n",
        "- outliers\n",
        "- duplicate rows\n",
        "- distribution for each column (skewness)\n",
        "<br>\n",
        "\n",
        "**comment each issue you find** "
      ]
    },
    {
      "cell_type": "code",
      "metadata": {
        "colab": {
          "base_uri": "https://localhost:8080/"
        },
        "id": "co7K8F8pt6UV",
        "outputId": "da475de6-61ab-49b8-f524-3359d8945ad2"
      },
      "source": [
        "# Let's see the data types and non-null values for each column\n",
        "df.info()"
      ],
      "execution_count": 3,
      "outputs": [
        {
          "output_type": "stream",
          "name": "stdout",
          "text": [
            "<class 'pandas.core.frame.DataFrame'>\n",
            "RangeIndex: 227 entries, 0 to 226\n",
            "Data columns (total 20 columns):\n",
            " #   Column                              Non-Null Count  Dtype  \n",
            "---  ------                              --------------  -----  \n",
            " 0   Country                             227 non-null    object \n",
            " 1   Region                              227 non-null    object \n",
            " 2   Population                          227 non-null    int64  \n",
            " 3   Area (sq. mi.)                      227 non-null    int64  \n",
            " 4   Pop. Density (per sq. mi.)          227 non-null    float64\n",
            " 5   Coastline (coast/area ratio)        227 non-null    float64\n",
            " 6   Net migration                       224 non-null    float64\n",
            " 7   Infant mortality (per 1000 births)  224 non-null    float64\n",
            " 8   GDP ($ per capita)                  226 non-null    float64\n",
            " 9   Literacy (%)                        209 non-null    float64\n",
            " 10  Phones (per 1000)                   223 non-null    float64\n",
            " 11  Arable (%)                          225 non-null    float64\n",
            " 12  Crops (%)                           225 non-null    float64\n",
            " 13  Other (%)                           225 non-null    float64\n",
            " 14  Climate                             205 non-null    float64\n",
            " 15  Birthrate                           224 non-null    float64\n",
            " 16  Deathrate                           223 non-null    float64\n",
            " 17  Agriculture                         212 non-null    float64\n",
            " 18  Industry                            211 non-null    float64\n",
            " 19  Service                             212 non-null    float64\n",
            "dtypes: float64(16), int64(2), object(2)\n",
            "memory usage: 35.6+ KB\n"
          ]
        }
      ]
    },
    {
      "cell_type": "code",
      "metadata": {
        "colab": {
          "base_uri": "https://localhost:8080/"
        },
        "id": "z5__h0Lpt6UW",
        "outputId": "feb2a977-4d93-4f11-978a-e34f7e357f46"
      },
      "source": [
        "round(df.isnull().sum(axis=0)*100/df.shape[0],2)"
      ],
      "execution_count": 4,
      "outputs": [
        {
          "output_type": "execute_result",
          "data": {
            "text/plain": [
              "Country                               0.00\n",
              "Region                                0.00\n",
              "Population                            0.00\n",
              "Area (sq. mi.)                        0.00\n",
              "Pop. Density (per sq. mi.)            0.00\n",
              "Coastline (coast/area ratio)          0.00\n",
              "Net migration                         1.32\n",
              "Infant mortality (per 1000 births)    1.32\n",
              "GDP ($ per capita)                    0.44\n",
              "Literacy (%)                          7.93\n",
              "Phones (per 1000)                     1.76\n",
              "Arable (%)                            0.88\n",
              "Crops (%)                             0.88\n",
              "Other (%)                             0.88\n",
              "Climate                               9.69\n",
              "Birthrate                             1.32\n",
              "Deathrate                             1.76\n",
              "Agriculture                           6.61\n",
              "Industry                              7.05\n",
              "Service                               6.61\n",
              "dtype: float64"
            ]
          },
          "metadata": {},
          "execution_count": 4
        }
      ]
    },
    {
      "cell_type": "code",
      "metadata": {
        "colab": {
          "base_uri": "https://localhost:8080/",
          "height": 366
        },
        "id": "ym4gAmyFt6UW",
        "outputId": "3624e82a-4be7-44b3-a782-e11eb1c809ff"
      },
      "source": [
        "# This will print basic statistics for numerical columns\n",
        "df.describe()"
      ],
      "execution_count": 5,
      "outputs": [
        {
          "output_type": "execute_result",
          "data": {
            "text/html": [
              "<div>\n",
              "<style scoped>\n",
              "    .dataframe tbody tr th:only-of-type {\n",
              "        vertical-align: middle;\n",
              "    }\n",
              "\n",
              "    .dataframe tbody tr th {\n",
              "        vertical-align: top;\n",
              "    }\n",
              "\n",
              "    .dataframe thead th {\n",
              "        text-align: right;\n",
              "    }\n",
              "</style>\n",
              "<table border=\"1\" class=\"dataframe\">\n",
              "  <thead>\n",
              "    <tr style=\"text-align: right;\">\n",
              "      <th></th>\n",
              "      <th>Population</th>\n",
              "      <th>Area (sq. mi.)</th>\n",
              "      <th>Pop. Density (per sq. mi.)</th>\n",
              "      <th>Coastline (coast/area ratio)</th>\n",
              "      <th>Net migration</th>\n",
              "      <th>Infant mortality (per 1000 births)</th>\n",
              "      <th>GDP ($ per capita)</th>\n",
              "      <th>Literacy (%)</th>\n",
              "      <th>Phones (per 1000)</th>\n",
              "      <th>Arable (%)</th>\n",
              "      <th>Crops (%)</th>\n",
              "      <th>Other (%)</th>\n",
              "      <th>Climate</th>\n",
              "      <th>Birthrate</th>\n",
              "      <th>Deathrate</th>\n",
              "      <th>Agriculture</th>\n",
              "      <th>Industry</th>\n",
              "      <th>Service</th>\n",
              "    </tr>\n",
              "  </thead>\n",
              "  <tbody>\n",
              "    <tr>\n",
              "      <th>count</th>\n",
              "      <td>2.270000e+02</td>\n",
              "      <td>2.270000e+02</td>\n",
              "      <td>227.000000</td>\n",
              "      <td>227.000000</td>\n",
              "      <td>224.000000</td>\n",
              "      <td>224.000000</td>\n",
              "      <td>226.000000</td>\n",
              "      <td>209.000000</td>\n",
              "      <td>223.000000</td>\n",
              "      <td>225.000000</td>\n",
              "      <td>225.000000</td>\n",
              "      <td>225.000000</td>\n",
              "      <td>205.000000</td>\n",
              "      <td>224.000000</td>\n",
              "      <td>223.000000</td>\n",
              "      <td>212.000000</td>\n",
              "      <td>211.000000</td>\n",
              "      <td>212.000000</td>\n",
              "    </tr>\n",
              "    <tr>\n",
              "      <th>mean</th>\n",
              "      <td>2.874028e+07</td>\n",
              "      <td>5.982270e+05</td>\n",
              "      <td>379.047137</td>\n",
              "      <td>21.165330</td>\n",
              "      <td>0.038125</td>\n",
              "      <td>35.506964</td>\n",
              "      <td>9689.823009</td>\n",
              "      <td>82.838278</td>\n",
              "      <td>236.061435</td>\n",
              "      <td>13.797111</td>\n",
              "      <td>4.564222</td>\n",
              "      <td>81.638311</td>\n",
              "      <td>2.139024</td>\n",
              "      <td>22.114732</td>\n",
              "      <td>9.241345</td>\n",
              "      <td>0.150844</td>\n",
              "      <td>0.282711</td>\n",
              "      <td>0.565283</td>\n",
              "    </tr>\n",
              "    <tr>\n",
              "      <th>std</th>\n",
              "      <td>1.178913e+08</td>\n",
              "      <td>1.790282e+06</td>\n",
              "      <td>1660.185825</td>\n",
              "      <td>72.286863</td>\n",
              "      <td>4.889269</td>\n",
              "      <td>35.389899</td>\n",
              "      <td>10049.138513</td>\n",
              "      <td>19.722173</td>\n",
              "      <td>227.991829</td>\n",
              "      <td>13.040402</td>\n",
              "      <td>8.361470</td>\n",
              "      <td>16.140835</td>\n",
              "      <td>0.699397</td>\n",
              "      <td>11.176716</td>\n",
              "      <td>4.990026</td>\n",
              "      <td>0.146798</td>\n",
              "      <td>0.138272</td>\n",
              "      <td>0.165841</td>\n",
              "    </tr>\n",
              "    <tr>\n",
              "      <th>min</th>\n",
              "      <td>7.026000e+03</td>\n",
              "      <td>2.000000e+00</td>\n",
              "      <td>0.000000</td>\n",
              "      <td>0.000000</td>\n",
              "      <td>-20.990000</td>\n",
              "      <td>2.290000</td>\n",
              "      <td>500.000000</td>\n",
              "      <td>17.600000</td>\n",
              "      <td>0.200000</td>\n",
              "      <td>0.000000</td>\n",
              "      <td>0.000000</td>\n",
              "      <td>33.330000</td>\n",
              "      <td>1.000000</td>\n",
              "      <td>7.290000</td>\n",
              "      <td>2.290000</td>\n",
              "      <td>0.000000</td>\n",
              "      <td>0.020000</td>\n",
              "      <td>0.062000</td>\n",
              "    </tr>\n",
              "    <tr>\n",
              "      <th>25%</th>\n",
              "      <td>4.376240e+05</td>\n",
              "      <td>4.647500e+03</td>\n",
              "      <td>29.150000</td>\n",
              "      <td>0.100000</td>\n",
              "      <td>-0.927500</td>\n",
              "      <td>8.150000</td>\n",
              "      <td>1900.000000</td>\n",
              "      <td>70.600000</td>\n",
              "      <td>37.800000</td>\n",
              "      <td>3.220000</td>\n",
              "      <td>0.190000</td>\n",
              "      <td>71.650000</td>\n",
              "      <td>2.000000</td>\n",
              "      <td>12.672500</td>\n",
              "      <td>5.910000</td>\n",
              "      <td>0.037750</td>\n",
              "      <td>0.193000</td>\n",
              "      <td>0.429250</td>\n",
              "    </tr>\n",
              "    <tr>\n",
              "      <th>50%</th>\n",
              "      <td>4.786994e+06</td>\n",
              "      <td>8.660000e+04</td>\n",
              "      <td>78.800000</td>\n",
              "      <td>0.730000</td>\n",
              "      <td>0.000000</td>\n",
              "      <td>21.000000</td>\n",
              "      <td>5550.000000</td>\n",
              "      <td>92.500000</td>\n",
              "      <td>176.200000</td>\n",
              "      <td>10.420000</td>\n",
              "      <td>1.030000</td>\n",
              "      <td>85.700000</td>\n",
              "      <td>2.000000</td>\n",
              "      <td>18.790000</td>\n",
              "      <td>7.840000</td>\n",
              "      <td>0.099000</td>\n",
              "      <td>0.272000</td>\n",
              "      <td>0.571000</td>\n",
              "    </tr>\n",
              "    <tr>\n",
              "      <th>75%</th>\n",
              "      <td>1.749777e+07</td>\n",
              "      <td>4.418110e+05</td>\n",
              "      <td>190.150000</td>\n",
              "      <td>10.345000</td>\n",
              "      <td>0.997500</td>\n",
              "      <td>55.705000</td>\n",
              "      <td>15700.000000</td>\n",
              "      <td>98.000000</td>\n",
              "      <td>389.650000</td>\n",
              "      <td>20.000000</td>\n",
              "      <td>4.440000</td>\n",
              "      <td>95.440000</td>\n",
              "      <td>3.000000</td>\n",
              "      <td>29.820000</td>\n",
              "      <td>10.605000</td>\n",
              "      <td>0.221000</td>\n",
              "      <td>0.341000</td>\n",
              "      <td>0.678500</td>\n",
              "    </tr>\n",
              "    <tr>\n",
              "      <th>max</th>\n",
              "      <td>1.313974e+09</td>\n",
              "      <td>1.707520e+07</td>\n",
              "      <td>16271.500000</td>\n",
              "      <td>870.660000</td>\n",
              "      <td>23.060000</td>\n",
              "      <td>191.190000</td>\n",
              "      <td>55100.000000</td>\n",
              "      <td>100.000000</td>\n",
              "      <td>1035.600000</td>\n",
              "      <td>62.110000</td>\n",
              "      <td>50.680000</td>\n",
              "      <td>100.000000</td>\n",
              "      <td>4.000000</td>\n",
              "      <td>50.730000</td>\n",
              "      <td>29.740000</td>\n",
              "      <td>0.769000</td>\n",
              "      <td>0.906000</td>\n",
              "      <td>0.954000</td>\n",
              "    </tr>\n",
              "  </tbody>\n",
              "</table>\n",
              "</div>"
            ],
            "text/plain": [
              "         Population  Area (sq. mi.)  ...    Industry     Service\n",
              "count  2.270000e+02    2.270000e+02  ...  211.000000  212.000000\n",
              "mean   2.874028e+07    5.982270e+05  ...    0.282711    0.565283\n",
              "std    1.178913e+08    1.790282e+06  ...    0.138272    0.165841\n",
              "min    7.026000e+03    2.000000e+00  ...    0.020000    0.062000\n",
              "25%    4.376240e+05    4.647500e+03  ...    0.193000    0.429250\n",
              "50%    4.786994e+06    8.660000e+04  ...    0.272000    0.571000\n",
              "75%    1.749777e+07    4.418110e+05  ...    0.341000    0.678500\n",
              "max    1.313974e+09    1.707520e+07  ...    0.906000    0.954000\n",
              "\n",
              "[8 rows x 18 columns]"
            ]
          },
          "metadata": {},
          "execution_count": 5
        }
      ]
    },
    {
      "cell_type": "markdown",
      "metadata": {
        "id": "NGhwADPSt6UX"
      },
      "source": [
        "## 3. <a name=\"3\">Data preprocessing</a>\n",
        "(<a href=\"#0\">Go to top</a>)\n"
      ]
    },
    {
      "cell_type": "markdown",
      "metadata": {
        "id": "ao5V4L6Ht6UY"
      },
      "source": [
        "### for each issue adapt this methodology \n",
        "- start by defining the solution\n",
        "- apply this solution onn the data\n",
        "- test the solution to make sure that you have solved the issue"
      ]
    },
    {
      "cell_type": "code",
      "metadata": {
        "colab": {
          "base_uri": "https://localhost:8080/",
          "height": 391
        },
        "id": "mlfSspEpoK0L",
        "outputId": "947d511a-4ad7-4b98-c4d0-4353e11f28b5"
      },
      "source": [
        "df.head()"
      ],
      "execution_count": 6,
      "outputs": [
        {
          "output_type": "execute_result",
          "data": {
            "text/html": [
              "<div>\n",
              "<style scoped>\n",
              "    .dataframe tbody tr th:only-of-type {\n",
              "        vertical-align: middle;\n",
              "    }\n",
              "\n",
              "    .dataframe tbody tr th {\n",
              "        vertical-align: top;\n",
              "    }\n",
              "\n",
              "    .dataframe thead th {\n",
              "        text-align: right;\n",
              "    }\n",
              "</style>\n",
              "<table border=\"1\" class=\"dataframe\">\n",
              "  <thead>\n",
              "    <tr style=\"text-align: right;\">\n",
              "      <th></th>\n",
              "      <th>Country</th>\n",
              "      <th>Region</th>\n",
              "      <th>Population</th>\n",
              "      <th>Area (sq. mi.)</th>\n",
              "      <th>Pop. Density (per sq. mi.)</th>\n",
              "      <th>Coastline (coast/area ratio)</th>\n",
              "      <th>Net migration</th>\n",
              "      <th>Infant mortality (per 1000 births)</th>\n",
              "      <th>GDP ($ per capita)</th>\n",
              "      <th>Literacy (%)</th>\n",
              "      <th>Phones (per 1000)</th>\n",
              "      <th>Arable (%)</th>\n",
              "      <th>Crops (%)</th>\n",
              "      <th>Other (%)</th>\n",
              "      <th>Climate</th>\n",
              "      <th>Birthrate</th>\n",
              "      <th>Deathrate</th>\n",
              "      <th>Agriculture</th>\n",
              "      <th>Industry</th>\n",
              "      <th>Service</th>\n",
              "    </tr>\n",
              "  </thead>\n",
              "  <tbody>\n",
              "    <tr>\n",
              "      <th>0</th>\n",
              "      <td>Afghanistan</td>\n",
              "      <td>ASIA (EX. NEAR EAST)</td>\n",
              "      <td>31056997</td>\n",
              "      <td>647500</td>\n",
              "      <td>48.0</td>\n",
              "      <td>0.00</td>\n",
              "      <td>23.06</td>\n",
              "      <td>163.07</td>\n",
              "      <td>700.0</td>\n",
              "      <td>36.0</td>\n",
              "      <td>3.2</td>\n",
              "      <td>12.13</td>\n",
              "      <td>0.22</td>\n",
              "      <td>87.65</td>\n",
              "      <td>1.0</td>\n",
              "      <td>46.60</td>\n",
              "      <td>20.34</td>\n",
              "      <td>0.380</td>\n",
              "      <td>0.240</td>\n",
              "      <td>0.380</td>\n",
              "    </tr>\n",
              "    <tr>\n",
              "      <th>1</th>\n",
              "      <td>Albania</td>\n",
              "      <td>EASTERN EUROPE</td>\n",
              "      <td>3581655</td>\n",
              "      <td>28748</td>\n",
              "      <td>124.6</td>\n",
              "      <td>1.26</td>\n",
              "      <td>-4.93</td>\n",
              "      <td>21.52</td>\n",
              "      <td>4500.0</td>\n",
              "      <td>86.5</td>\n",
              "      <td>71.2</td>\n",
              "      <td>21.09</td>\n",
              "      <td>4.42</td>\n",
              "      <td>74.49</td>\n",
              "      <td>3.0</td>\n",
              "      <td>15.11</td>\n",
              "      <td>5.22</td>\n",
              "      <td>0.232</td>\n",
              "      <td>0.188</td>\n",
              "      <td>0.579</td>\n",
              "    </tr>\n",
              "    <tr>\n",
              "      <th>2</th>\n",
              "      <td>Algeria</td>\n",
              "      <td>NORTHERN AFRICA</td>\n",
              "      <td>32930091</td>\n",
              "      <td>2381740</td>\n",
              "      <td>13.8</td>\n",
              "      <td>0.04</td>\n",
              "      <td>-0.39</td>\n",
              "      <td>31.00</td>\n",
              "      <td>6000.0</td>\n",
              "      <td>70.0</td>\n",
              "      <td>78.1</td>\n",
              "      <td>3.22</td>\n",
              "      <td>0.25</td>\n",
              "      <td>96.53</td>\n",
              "      <td>1.0</td>\n",
              "      <td>17.14</td>\n",
              "      <td>4.61</td>\n",
              "      <td>0.101</td>\n",
              "      <td>0.600</td>\n",
              "      <td>0.298</td>\n",
              "    </tr>\n",
              "    <tr>\n",
              "      <th>3</th>\n",
              "      <td>American Samoa</td>\n",
              "      <td>OCEANIA</td>\n",
              "      <td>57794</td>\n",
              "      <td>199</td>\n",
              "      <td>290.4</td>\n",
              "      <td>58.29</td>\n",
              "      <td>-20.71</td>\n",
              "      <td>9.27</td>\n",
              "      <td>8000.0</td>\n",
              "      <td>97.0</td>\n",
              "      <td>259.5</td>\n",
              "      <td>10.00</td>\n",
              "      <td>15.00</td>\n",
              "      <td>75.00</td>\n",
              "      <td>2.0</td>\n",
              "      <td>22.46</td>\n",
              "      <td>3.27</td>\n",
              "      <td>NaN</td>\n",
              "      <td>NaN</td>\n",
              "      <td>NaN</td>\n",
              "    </tr>\n",
              "    <tr>\n",
              "      <th>4</th>\n",
              "      <td>Andorra</td>\n",
              "      <td>WESTERN EUROPE</td>\n",
              "      <td>71201</td>\n",
              "      <td>468</td>\n",
              "      <td>152.1</td>\n",
              "      <td>0.00</td>\n",
              "      <td>6.60</td>\n",
              "      <td>4.05</td>\n",
              "      <td>19000.0</td>\n",
              "      <td>100.0</td>\n",
              "      <td>497.2</td>\n",
              "      <td>2.22</td>\n",
              "      <td>0.00</td>\n",
              "      <td>97.78</td>\n",
              "      <td>3.0</td>\n",
              "      <td>8.71</td>\n",
              "      <td>6.25</td>\n",
              "      <td>NaN</td>\n",
              "      <td>NaN</td>\n",
              "      <td>NaN</td>\n",
              "    </tr>\n",
              "  </tbody>\n",
              "</table>\n",
              "</div>"
            ],
            "text/plain": [
              "           Country                               Region  ...  Industry  Service\n",
              "0     Afghanistan         ASIA (EX. NEAR EAST)           ...     0.240    0.380\n",
              "1         Albania   EASTERN EUROPE                       ...     0.188    0.579\n",
              "2         Algeria   NORTHERN AFRICA                      ...     0.600    0.298\n",
              "3  American Samoa   OCEANIA                              ...       NaN      NaN\n",
              "4         Andorra   WESTERN EUROPE                       ...       NaN      NaN\n",
              "\n",
              "[5 rows x 20 columns]"
            ]
          },
          "metadata": {},
          "execution_count": 6
        }
      ]
    },
    {
      "cell_type": "markdown",
      "metadata": {
        "id": "iqx0afxzt6UY"
      },
      "source": [
        "**First issue**"
      ]
    },
    {
      "cell_type": "markdown",
      "metadata": {
        "id": "Cq6BEhoz3GGw"
      },
      "source": [
        "**duplicate rows**"
      ]
    },
    {
      "cell_type": "code",
      "metadata": {
        "colab": {
          "base_uri": "https://localhost:8080/"
        },
        "id": "hDZoic7A27fQ",
        "outputId": "94a0c979-4335-4921-f54a-cf20c50920aa"
      },
      "source": [
        "# check duplicated data\n",
        "df.duplicated().sum()   # output =0 , meaning that no duplicate rows"
      ],
      "execution_count": 7,
      "outputs": [
        {
          "output_type": "execute_result",
          "data": {
            "text/plain": [
              "0"
            ]
          },
          "metadata": {},
          "execution_count": 7
        }
      ]
    },
    {
      "cell_type": "code",
      "metadata": {
        "colab": {
          "base_uri": "https://localhost:8080/"
        },
        "id": "06dBpQEsqTcW",
        "outputId": "b0128162-a2ad-42ba-ad8a-6910de08c98c"
      },
      "source": [
        "# check columns name\n",
        "df.columns\n",
        " "
      ],
      "execution_count": 8,
      "outputs": [
        {
          "output_type": "execute_result",
          "data": {
            "text/plain": [
              "Index(['Country', 'Region', 'Population', 'Area (sq. mi.)',\n",
              "       'Pop. Density (per sq. mi.)', 'Coastline (coast/area ratio)',\n",
              "       'Net migration', 'Infant mortality (per 1000 births)',\n",
              "       'GDP ($ per capita)', 'Literacy (%)', 'Phones (per 1000)', 'Arable (%)',\n",
              "       'Crops (%)', 'Other (%)', 'Climate', 'Birthrate', 'Deathrate',\n",
              "       'Agriculture', 'Industry', 'Service'],\n",
              "      dtype='object')"
            ]
          },
          "metadata": {},
          "execution_count": 8
        }
      ]
    },
    {
      "cell_type": "code",
      "metadata": {
        "id": "kmbtC6gwt6UY"
      },
      "source": [
        "#solution \n",
        "##Reformat columns names\n",
        "columns_names = ['Country', 'Region', 'Population', 'Area, sq. km.',\n",
        "       'Pop. Density, per sq. km.', 'Coastline (coast/area ratio)',\n",
        "       'Net migration, %', 'Infant mortality, per 1000 births',\n",
        "       'GDP, $ per capita', 'Literacy, %', 'Phones, per 1000', 'Arable, %',\n",
        "       'Crops, %', 'Other, %', 'Climate', 'Birthrate, per 1000 inhabitants', 'Deathrate, per 1000 inhabitants',\n",
        "       'Agriculture, %', 'Industry, %', 'Service, %']\n",
        " \n",
        "df.columns = columns_names\n",
        " "
      ],
      "execution_count": 9,
      "outputs": []
    },
    {
      "cell_type": "code",
      "metadata": {
        "id": "cKMpQoGet6UZ",
        "colab": {
          "base_uri": "https://localhost:8080/"
        },
        "outputId": "7eec1aba-28c2-4542-dcd6-a08cb5021d98"
      },
      "source": [
        "#test \n",
        "df.columns"
      ],
      "execution_count": 10,
      "outputs": [
        {
          "output_type": "execute_result",
          "data": {
            "text/plain": [
              "Index(['Country', 'Region', 'Population', 'Area, sq. km.',\n",
              "       'Pop. Density, per sq. km.', 'Coastline (coast/area ratio)',\n",
              "       'Net migration, %', 'Infant mortality, per 1000 births',\n",
              "       'GDP, $ per capita', 'Literacy, %', 'Phones, per 1000', 'Arable, %',\n",
              "       'Crops, %', 'Other, %', 'Climate', 'Birthrate, per 1000 inhabitants',\n",
              "       'Deathrate, per 1000 inhabitants', 'Agriculture, %', 'Industry, %',\n",
              "       'Service, %'],\n",
              "      dtype='object')"
            ]
          },
          "metadata": {},
          "execution_count": 10
        }
      ]
    },
    {
      "cell_type": "code",
      "metadata": {
        "id": "ats2ODb2uPVG"
      },
      "source": [
        "# \n",
        "df['Agriculture, %'] *= 100\n",
        "df['Industry, %'] *= 100\n",
        "df['Service, %'] *= 100\n",
        "df = df.round(decimals=3)\n"
      ],
      "execution_count": 11,
      "outputs": []
    },
    {
      "cell_type": "code",
      "metadata": {
        "colab": {
          "base_uri": "https://localhost:8080/",
          "height": 374
        },
        "id": "CWIuO4Gpur0U",
        "outputId": "d1657433-94cb-45a9-dd98-c5c7bf716910"
      },
      "source": [
        "df.head()"
      ],
      "execution_count": 12,
      "outputs": [
        {
          "output_type": "execute_result",
          "data": {
            "text/html": [
              "<div>\n",
              "<style scoped>\n",
              "    .dataframe tbody tr th:only-of-type {\n",
              "        vertical-align: middle;\n",
              "    }\n",
              "\n",
              "    .dataframe tbody tr th {\n",
              "        vertical-align: top;\n",
              "    }\n",
              "\n",
              "    .dataframe thead th {\n",
              "        text-align: right;\n",
              "    }\n",
              "</style>\n",
              "<table border=\"1\" class=\"dataframe\">\n",
              "  <thead>\n",
              "    <tr style=\"text-align: right;\">\n",
              "      <th></th>\n",
              "      <th>Country</th>\n",
              "      <th>Region</th>\n",
              "      <th>Population</th>\n",
              "      <th>Area, sq. km.</th>\n",
              "      <th>Pop. Density, per sq. km.</th>\n",
              "      <th>Coastline (coast/area ratio)</th>\n",
              "      <th>Net migration, %</th>\n",
              "      <th>Infant mortality, per 1000 births</th>\n",
              "      <th>GDP, $ per capita</th>\n",
              "      <th>Literacy, %</th>\n",
              "      <th>Phones, per 1000</th>\n",
              "      <th>Arable, %</th>\n",
              "      <th>Crops, %</th>\n",
              "      <th>Other, %</th>\n",
              "      <th>Climate</th>\n",
              "      <th>Birthrate, per 1000 inhabitants</th>\n",
              "      <th>Deathrate, per 1000 inhabitants</th>\n",
              "      <th>Agriculture, %</th>\n",
              "      <th>Industry, %</th>\n",
              "      <th>Service, %</th>\n",
              "    </tr>\n",
              "  </thead>\n",
              "  <tbody>\n",
              "    <tr>\n",
              "      <th>0</th>\n",
              "      <td>Afghanistan</td>\n",
              "      <td>ASIA (EX. NEAR EAST)</td>\n",
              "      <td>31056997</td>\n",
              "      <td>647500</td>\n",
              "      <td>48.0</td>\n",
              "      <td>0.00</td>\n",
              "      <td>23.06</td>\n",
              "      <td>163.07</td>\n",
              "      <td>700.0</td>\n",
              "      <td>36.0</td>\n",
              "      <td>3.2</td>\n",
              "      <td>12.13</td>\n",
              "      <td>0.22</td>\n",
              "      <td>87.65</td>\n",
              "      <td>1.0</td>\n",
              "      <td>46.60</td>\n",
              "      <td>20.34</td>\n",
              "      <td>38.0</td>\n",
              "      <td>24.0</td>\n",
              "      <td>38.0</td>\n",
              "    </tr>\n",
              "    <tr>\n",
              "      <th>1</th>\n",
              "      <td>Albania</td>\n",
              "      <td>EASTERN EUROPE</td>\n",
              "      <td>3581655</td>\n",
              "      <td>28748</td>\n",
              "      <td>124.6</td>\n",
              "      <td>1.26</td>\n",
              "      <td>-4.93</td>\n",
              "      <td>21.52</td>\n",
              "      <td>4500.0</td>\n",
              "      <td>86.5</td>\n",
              "      <td>71.2</td>\n",
              "      <td>21.09</td>\n",
              "      <td>4.42</td>\n",
              "      <td>74.49</td>\n",
              "      <td>3.0</td>\n",
              "      <td>15.11</td>\n",
              "      <td>5.22</td>\n",
              "      <td>23.2</td>\n",
              "      <td>18.8</td>\n",
              "      <td>57.9</td>\n",
              "    </tr>\n",
              "    <tr>\n",
              "      <th>2</th>\n",
              "      <td>Algeria</td>\n",
              "      <td>NORTHERN AFRICA</td>\n",
              "      <td>32930091</td>\n",
              "      <td>2381740</td>\n",
              "      <td>13.8</td>\n",
              "      <td>0.04</td>\n",
              "      <td>-0.39</td>\n",
              "      <td>31.00</td>\n",
              "      <td>6000.0</td>\n",
              "      <td>70.0</td>\n",
              "      <td>78.1</td>\n",
              "      <td>3.22</td>\n",
              "      <td>0.25</td>\n",
              "      <td>96.53</td>\n",
              "      <td>1.0</td>\n",
              "      <td>17.14</td>\n",
              "      <td>4.61</td>\n",
              "      <td>10.1</td>\n",
              "      <td>60.0</td>\n",
              "      <td>29.8</td>\n",
              "    </tr>\n",
              "    <tr>\n",
              "      <th>3</th>\n",
              "      <td>American Samoa</td>\n",
              "      <td>OCEANIA</td>\n",
              "      <td>57794</td>\n",
              "      <td>199</td>\n",
              "      <td>290.4</td>\n",
              "      <td>58.29</td>\n",
              "      <td>-20.71</td>\n",
              "      <td>9.27</td>\n",
              "      <td>8000.0</td>\n",
              "      <td>97.0</td>\n",
              "      <td>259.5</td>\n",
              "      <td>10.00</td>\n",
              "      <td>15.00</td>\n",
              "      <td>75.00</td>\n",
              "      <td>2.0</td>\n",
              "      <td>22.46</td>\n",
              "      <td>3.27</td>\n",
              "      <td>NaN</td>\n",
              "      <td>NaN</td>\n",
              "      <td>NaN</td>\n",
              "    </tr>\n",
              "    <tr>\n",
              "      <th>4</th>\n",
              "      <td>Andorra</td>\n",
              "      <td>WESTERN EUROPE</td>\n",
              "      <td>71201</td>\n",
              "      <td>468</td>\n",
              "      <td>152.1</td>\n",
              "      <td>0.00</td>\n",
              "      <td>6.60</td>\n",
              "      <td>4.05</td>\n",
              "      <td>19000.0</td>\n",
              "      <td>100.0</td>\n",
              "      <td>497.2</td>\n",
              "      <td>2.22</td>\n",
              "      <td>0.00</td>\n",
              "      <td>97.78</td>\n",
              "      <td>3.0</td>\n",
              "      <td>8.71</td>\n",
              "      <td>6.25</td>\n",
              "      <td>NaN</td>\n",
              "      <td>NaN</td>\n",
              "      <td>NaN</td>\n",
              "    </tr>\n",
              "  </tbody>\n",
              "</table>\n",
              "</div>"
            ],
            "text/plain": [
              "           Country  ... Service, %\n",
              "0     Afghanistan   ...       38.0\n",
              "1         Albania   ...       57.9\n",
              "2         Algeria   ...       29.8\n",
              "3  American Samoa   ...        NaN\n",
              "4         Andorra   ...        NaN\n",
              "\n",
              "[5 rows x 20 columns]"
            ]
          },
          "metadata": {},
          "execution_count": 12
        }
      ]
    },
    {
      "cell_type": "markdown",
      "metadata": {
        "id": "X-6d1s9AwYlW"
      },
      "source": [
        "**Handle categorical and numerical features**"
      ]
    },
    {
      "cell_type": "code",
      "metadata": {
        "colab": {
          "base_uri": "https://localhost:8080/"
        },
        "id": "fj7_KJBuwW2e",
        "outputId": "d92d1691-c733-470a-e446-aceae4538ec2"
      },
      "source": [
        "# Handle categorical and numerical features\n",
        "cat_name_features = [col for col in df.columns if df[col].dtype == object]\n",
        "num_name_features = [col for col in df.columns if df[col].dtype != object]\n",
        "totat_features = cat_name_features + num_name_features\n",
        "\n",
        "print(f\"categorical Datat :{cat_name_features}\")\n",
        "print(f\"Numerical Datat :{num_name_features}\")"
      ],
      "execution_count": 13,
      "outputs": [
        {
          "output_type": "stream",
          "name": "stdout",
          "text": [
            "categorical Datat :['Country', 'Region']\n",
            "Numerical Datat :['Population', 'Area, sq. km.', 'Pop. Density, per sq. km.', 'Coastline (coast/area ratio)', 'Net migration, %', 'Infant mortality, per 1000 births', 'GDP, $ per capita', 'Literacy, %', 'Phones, per 1000', 'Arable, %', 'Crops, %', 'Other, %', 'Climate', 'Birthrate, per 1000 inhabitants', 'Deathrate, per 1000 inhabitants', 'Agriculture, %', 'Industry, %', 'Service, %']\n"
          ]
        }
      ]
    },
    {
      "cell_type": "code",
      "metadata": {
        "colab": {
          "base_uri": "https://localhost:8080/",
          "height": 366
        },
        "id": "mc25nGAjxQHM",
        "outputId": "c68b43fa-1554-429b-d19c-3e259ddfef1b"
      },
      "source": [
        "# calculate summary statistics for numerical data\n",
        "df[num_name_features].describe()"
      ],
      "execution_count": 14,
      "outputs": [
        {
          "output_type": "execute_result",
          "data": {
            "text/html": [
              "<div>\n",
              "<style scoped>\n",
              "    .dataframe tbody tr th:only-of-type {\n",
              "        vertical-align: middle;\n",
              "    }\n",
              "\n",
              "    .dataframe tbody tr th {\n",
              "        vertical-align: top;\n",
              "    }\n",
              "\n",
              "    .dataframe thead th {\n",
              "        text-align: right;\n",
              "    }\n",
              "</style>\n",
              "<table border=\"1\" class=\"dataframe\">\n",
              "  <thead>\n",
              "    <tr style=\"text-align: right;\">\n",
              "      <th></th>\n",
              "      <th>Population</th>\n",
              "      <th>Area, sq. km.</th>\n",
              "      <th>Pop. Density, per sq. km.</th>\n",
              "      <th>Coastline (coast/area ratio)</th>\n",
              "      <th>Net migration, %</th>\n",
              "      <th>Infant mortality, per 1000 births</th>\n",
              "      <th>GDP, $ per capita</th>\n",
              "      <th>Literacy, %</th>\n",
              "      <th>Phones, per 1000</th>\n",
              "      <th>Arable, %</th>\n",
              "      <th>Crops, %</th>\n",
              "      <th>Other, %</th>\n",
              "      <th>Climate</th>\n",
              "      <th>Birthrate, per 1000 inhabitants</th>\n",
              "      <th>Deathrate, per 1000 inhabitants</th>\n",
              "      <th>Agriculture, %</th>\n",
              "      <th>Industry, %</th>\n",
              "      <th>Service, %</th>\n",
              "    </tr>\n",
              "  </thead>\n",
              "  <tbody>\n",
              "    <tr>\n",
              "      <th>count</th>\n",
              "      <td>2.270000e+02</td>\n",
              "      <td>2.270000e+02</td>\n",
              "      <td>227.000000</td>\n",
              "      <td>227.000000</td>\n",
              "      <td>224.000000</td>\n",
              "      <td>224.000000</td>\n",
              "      <td>226.000000</td>\n",
              "      <td>209.000000</td>\n",
              "      <td>223.000000</td>\n",
              "      <td>225.000000</td>\n",
              "      <td>225.000000</td>\n",
              "      <td>225.000000</td>\n",
              "      <td>205.000000</td>\n",
              "      <td>224.000000</td>\n",
              "      <td>223.000000</td>\n",
              "      <td>212.000000</td>\n",
              "      <td>211.000000</td>\n",
              "      <td>212.000000</td>\n",
              "    </tr>\n",
              "    <tr>\n",
              "      <th>mean</th>\n",
              "      <td>2.874028e+07</td>\n",
              "      <td>5.982270e+05</td>\n",
              "      <td>379.047137</td>\n",
              "      <td>21.165330</td>\n",
              "      <td>0.038125</td>\n",
              "      <td>35.506964</td>\n",
              "      <td>9689.823009</td>\n",
              "      <td>82.838278</td>\n",
              "      <td>236.061435</td>\n",
              "      <td>13.797111</td>\n",
              "      <td>4.564222</td>\n",
              "      <td>81.638311</td>\n",
              "      <td>2.139024</td>\n",
              "      <td>22.114732</td>\n",
              "      <td>9.241345</td>\n",
              "      <td>15.084434</td>\n",
              "      <td>28.271090</td>\n",
              "      <td>56.528302</td>\n",
              "    </tr>\n",
              "    <tr>\n",
              "      <th>std</th>\n",
              "      <td>1.178913e+08</td>\n",
              "      <td>1.790282e+06</td>\n",
              "      <td>1660.185825</td>\n",
              "      <td>72.286863</td>\n",
              "      <td>4.889269</td>\n",
              "      <td>35.389899</td>\n",
              "      <td>10049.138513</td>\n",
              "      <td>19.722173</td>\n",
              "      <td>227.991829</td>\n",
              "      <td>13.040402</td>\n",
              "      <td>8.361470</td>\n",
              "      <td>16.140835</td>\n",
              "      <td>0.699397</td>\n",
              "      <td>11.176716</td>\n",
              "      <td>4.990026</td>\n",
              "      <td>14.679795</td>\n",
              "      <td>13.827222</td>\n",
              "      <td>16.584100</td>\n",
              "    </tr>\n",
              "    <tr>\n",
              "      <th>min</th>\n",
              "      <td>7.026000e+03</td>\n",
              "      <td>2.000000e+00</td>\n",
              "      <td>0.000000</td>\n",
              "      <td>0.000000</td>\n",
              "      <td>-20.990000</td>\n",
              "      <td>2.290000</td>\n",
              "      <td>500.000000</td>\n",
              "      <td>17.600000</td>\n",
              "      <td>0.200000</td>\n",
              "      <td>0.000000</td>\n",
              "      <td>0.000000</td>\n",
              "      <td>33.330000</td>\n",
              "      <td>1.000000</td>\n",
              "      <td>7.290000</td>\n",
              "      <td>2.290000</td>\n",
              "      <td>0.000000</td>\n",
              "      <td>2.000000</td>\n",
              "      <td>6.200000</td>\n",
              "    </tr>\n",
              "    <tr>\n",
              "      <th>25%</th>\n",
              "      <td>4.376240e+05</td>\n",
              "      <td>4.647500e+03</td>\n",
              "      <td>29.150000</td>\n",
              "      <td>0.100000</td>\n",
              "      <td>-0.927500</td>\n",
              "      <td>8.150000</td>\n",
              "      <td>1900.000000</td>\n",
              "      <td>70.600000</td>\n",
              "      <td>37.800000</td>\n",
              "      <td>3.220000</td>\n",
              "      <td>0.190000</td>\n",
              "      <td>71.650000</td>\n",
              "      <td>2.000000</td>\n",
              "      <td>12.672500</td>\n",
              "      <td>5.910000</td>\n",
              "      <td>3.775000</td>\n",
              "      <td>19.300000</td>\n",
              "      <td>42.925000</td>\n",
              "    </tr>\n",
              "    <tr>\n",
              "      <th>50%</th>\n",
              "      <td>4.786994e+06</td>\n",
              "      <td>8.660000e+04</td>\n",
              "      <td>78.800000</td>\n",
              "      <td>0.730000</td>\n",
              "      <td>0.000000</td>\n",
              "      <td>21.000000</td>\n",
              "      <td>5550.000000</td>\n",
              "      <td>92.500000</td>\n",
              "      <td>176.200000</td>\n",
              "      <td>10.420000</td>\n",
              "      <td>1.030000</td>\n",
              "      <td>85.700000</td>\n",
              "      <td>2.000000</td>\n",
              "      <td>18.790000</td>\n",
              "      <td>7.840000</td>\n",
              "      <td>9.900000</td>\n",
              "      <td>27.200000</td>\n",
              "      <td>57.100000</td>\n",
              "    </tr>\n",
              "    <tr>\n",
              "      <th>75%</th>\n",
              "      <td>1.749777e+07</td>\n",
              "      <td>4.418110e+05</td>\n",
              "      <td>190.150000</td>\n",
              "      <td>10.345000</td>\n",
              "      <td>0.997500</td>\n",
              "      <td>55.705000</td>\n",
              "      <td>15700.000000</td>\n",
              "      <td>98.000000</td>\n",
              "      <td>389.650000</td>\n",
              "      <td>20.000000</td>\n",
              "      <td>4.440000</td>\n",
              "      <td>95.440000</td>\n",
              "      <td>3.000000</td>\n",
              "      <td>29.820000</td>\n",
              "      <td>10.605000</td>\n",
              "      <td>22.100000</td>\n",
              "      <td>34.100000</td>\n",
              "      <td>67.850000</td>\n",
              "    </tr>\n",
              "    <tr>\n",
              "      <th>max</th>\n",
              "      <td>1.313974e+09</td>\n",
              "      <td>1.707520e+07</td>\n",
              "      <td>16271.500000</td>\n",
              "      <td>870.660000</td>\n",
              "      <td>23.060000</td>\n",
              "      <td>191.190000</td>\n",
              "      <td>55100.000000</td>\n",
              "      <td>100.000000</td>\n",
              "      <td>1035.600000</td>\n",
              "      <td>62.110000</td>\n",
              "      <td>50.680000</td>\n",
              "      <td>100.000000</td>\n",
              "      <td>4.000000</td>\n",
              "      <td>50.730000</td>\n",
              "      <td>29.740000</td>\n",
              "      <td>76.900000</td>\n",
              "      <td>90.600000</td>\n",
              "      <td>95.400000</td>\n",
              "    </tr>\n",
              "  </tbody>\n",
              "</table>\n",
              "</div>"
            ],
            "text/plain": [
              "         Population  Area, sq. km.  ...  Industry, %  Service, %\n",
              "count  2.270000e+02   2.270000e+02  ...   211.000000  212.000000\n",
              "mean   2.874028e+07   5.982270e+05  ...    28.271090   56.528302\n",
              "std    1.178913e+08   1.790282e+06  ...    13.827222   16.584100\n",
              "min    7.026000e+03   2.000000e+00  ...     2.000000    6.200000\n",
              "25%    4.376240e+05   4.647500e+03  ...    19.300000   42.925000\n",
              "50%    4.786994e+06   8.660000e+04  ...    27.200000   57.100000\n",
              "75%    1.749777e+07   4.418110e+05  ...    34.100000   67.850000\n",
              "max    1.313974e+09   1.707520e+07  ...    90.600000   95.400000\n",
              "\n",
              "[8 rows x 18 columns]"
            ]
          },
          "metadata": {},
          "execution_count": 14
        }
      ]
    },
    {
      "cell_type": "code",
      "metadata": {
        "colab": {
          "base_uri": "https://localhost:8080/",
          "height": 172
        },
        "id": "V7bLmTglxbdL",
        "outputId": "443de790-7025-44ec-e58c-073e4d9fc4cc"
      },
      "source": [
        "# calculate summary statistics for categorical data\n",
        "df[cat_name_features].describe()"
      ],
      "execution_count": 15,
      "outputs": [
        {
          "output_type": "execute_result",
          "data": {
            "text/html": [
              "<div>\n",
              "<style scoped>\n",
              "    .dataframe tbody tr th:only-of-type {\n",
              "        vertical-align: middle;\n",
              "    }\n",
              "\n",
              "    .dataframe tbody tr th {\n",
              "        vertical-align: top;\n",
              "    }\n",
              "\n",
              "    .dataframe thead th {\n",
              "        text-align: right;\n",
              "    }\n",
              "</style>\n",
              "<table border=\"1\" class=\"dataframe\">\n",
              "  <thead>\n",
              "    <tr style=\"text-align: right;\">\n",
              "      <th></th>\n",
              "      <th>Country</th>\n",
              "      <th>Region</th>\n",
              "    </tr>\n",
              "  </thead>\n",
              "  <tbody>\n",
              "    <tr>\n",
              "      <th>count</th>\n",
              "      <td>227</td>\n",
              "      <td>227</td>\n",
              "    </tr>\n",
              "    <tr>\n",
              "      <th>unique</th>\n",
              "      <td>227</td>\n",
              "      <td>11</td>\n",
              "    </tr>\n",
              "    <tr>\n",
              "      <th>top</th>\n",
              "      <td>Moldova</td>\n",
              "      <td>SUB-SAHARAN AFRICA</td>\n",
              "    </tr>\n",
              "    <tr>\n",
              "      <th>freq</th>\n",
              "      <td>1</td>\n",
              "      <td>51</td>\n",
              "    </tr>\n",
              "  </tbody>\n",
              "</table>\n",
              "</div>"
            ],
            "text/plain": [
              "         Country                               Region\n",
              "count        227                                  227\n",
              "unique       227                                   11\n",
              "top     Moldova   SUB-SAHARAN AFRICA                 \n",
              "freq           1                                   51"
            ]
          },
          "metadata": {},
          "execution_count": 15
        }
      ]
    },
    {
      "cell_type": "markdown",
      "metadata": {
        "id": "9H1NC5vpt6UZ"
      },
      "source": [
        "**Second issue**"
      ]
    },
    {
      "cell_type": "markdown",
      "metadata": {
        "id": "1METhC9h3LgU"
      },
      "source": [
        "**Missing Values**"
      ]
    },
    {
      "cell_type": "code",
      "metadata": {
        "id": "Q7rRHFgXt6UZ",
        "colab": {
          "base_uri": "https://localhost:8080/",
          "height": 433
        },
        "outputId": "05cc0d22-8763-4e8c-b30a-e69e99f22557"
      },
      "source": [
        "#Looking out for missing values and handling them\n",
        "check_missing_values = df.isnull().sum()\n",
        "# drop column with no missing values and sort it descending\n",
        "miss_values = check_missing_values[check_missing_values>0]\n",
        "miss_values.sort_values(ascending=False).plot.bar()\n"
      ],
      "execution_count": 16,
      "outputs": [
        {
          "output_type": "execute_result",
          "data": {
            "text/plain": [
              "<matplotlib.axes._subplots.AxesSubplot at 0x7f5d29a2d450>"
            ]
          },
          "metadata": {},
          "execution_count": 16
        },
        {
          "output_type": "display_data",
          "data": {
            "image/png": "[encoded data removed]",
            "text/plain": [
              "<Figure size 432x288 with 1 Axes>"
            ]
          },
          "metadata": {
            "needs_background": "light"
          }
        }
      ]
    },
    {
      "cell_type": "code",
      "metadata": {
        "colab": {
          "base_uri": "https://localhost:8080/"
        },
        "id": "YkxubFRXqFC-",
        "outputId": "66024703-382a-4646-979c-7f924613c07d"
      },
      "source": [
        "df['Climate'].value_counts()"
      ],
      "execution_count": 17,
      "outputs": [
        {
          "output_type": "execute_result",
          "data": {
            "text/plain": [
              "2.0    111\n",
              "3.0     48\n",
              "1.0     29\n",
              "1.5      8\n",
              "4.0      6\n",
              "2.5      3\n",
              "Name: Climate, dtype: int64"
            ]
          },
          "metadata": {},
          "execution_count": 17
        }
      ]
    },
    {
      "cell_type": "code",
      "metadata": {
        "id": "cyXAABUEzilS"
      },
      "source": [
        "# drop climate column , don't know what the encodings mean and it have too many missing values.\n",
        "df.drop(columns=['Climate'], axis=1, inplace=True)"
      ],
      "execution_count": 18,
      "outputs": []
    },
    {
      "cell_type": "code",
      "metadata": {
        "colab": {
          "base_uri": "https://localhost:8080/"
        },
        "id": "d5AjYrrtzSEH",
        "outputId": "bc5b3fee-7cdb-4556-f12f-1454c77dda2d"
      },
      "source": [
        "df['Literacy, %'].value_counts()"
      ],
      "execution_count": 19,
      "outputs": [
        {
          "output_type": "execute_result",
          "data": {
            "text/plain": [
              "99.0     13\n",
              "97.0     11\n",
              "98.0     10\n",
              "100.0     7\n",
              "98.6      4\n",
              "         ..\n",
              "96.7      1\n",
              "80.6      1\n",
              "63.2      1\n",
              "45.7      1\n",
              "36.0      1\n",
              "Name: Literacy, %, Length: 140, dtype: int64"
            ]
          },
          "metadata": {},
          "execution_count": 19
        }
      ]
    },
    {
      "cell_type": "code",
      "metadata": {
        "colab": {
          "base_uri": "https://localhost:8080/",
          "height": 282
        },
        "id": "LqjUA9RHix4X",
        "outputId": "2d95cecb-a0f5-4571-8e1c-80210769ddde"
      },
      "source": [
        "# show the distribution\n",
        "df['Literacy, %'].hist()"
      ],
      "execution_count": 20,
      "outputs": [
        {
          "output_type": "execute_result",
          "data": {
            "text/plain": [
              "<matplotlib.axes._subplots.AxesSubplot at 0x7f5d29930f50>"
            ]
          },
          "metadata": {},
          "execution_count": 20
        },
        {
          "output_type": "display_data",
          "data": {
            "image/png": "[encoded data removed]",
            "text/plain": [
              "<Figure size 432x288 with 1 Axes>"
            ]
          },
          "metadata": {
            "needs_background": "light"
          }
        }
      ]
    },
    {
      "cell_type": "code",
      "metadata": {
        "id": "hu8bHDHLx5Kn"
      },
      "source": [
        "# fill null values in Literacy column by median\n",
        "df['Literacy, %'].fillna(value = df['Literacy, %'].median(), inplace = True)"
      ],
      "execution_count": 21,
      "outputs": []
    },
    {
      "cell_type": "code",
      "metadata": {
        "colab": {
          "base_uri": "https://localhost:8080/",
          "height": 282
        },
        "id": "ApuYgCxyjAyO",
        "outputId": "f75a0f35-a263-4bdf-f92e-5a38ac90787b"
      },
      "source": [
        "# After fill missing data by median()\n",
        "# show the distribution\n",
        "df['Literacy, %'].hist()"
      ],
      "execution_count": 22,
      "outputs": [
        {
          "output_type": "execute_result",
          "data": {
            "text/plain": [
              "<matplotlib.axes._subplots.AxesSubplot at 0x7f5d29477290>"
            ]
          },
          "metadata": {},
          "execution_count": 22
        },
        {
          "output_type": "display_data",
          "data": {
            "image/png": "[encoded data removed]",
            "text/plain": [
              "<Figure size 432x288 with 1 Axes>"
            ]
          },
          "metadata": {
            "needs_background": "light"
          }
        }
      ]
    },
    {
      "cell_type": "code",
      "metadata": {
        "colab": {
          "base_uri": "https://localhost:8080/",
          "height": 1000
        },
        "id": "zzlzWAH9jN-6",
        "outputId": "371ac305-baa2-4343-cd64-0687425bd5c1"
      },
      "source": [
        "# show the distribution of all columns\n",
        "df.hist(figsize = (20,20))"
      ],
      "execution_count": 23,
      "outputs": [
        {
          "output_type": "execute_result",
          "data": {
            "text/plain": [
              "array([[<matplotlib.axes._subplots.AxesSubplot object at 0x7f5d29981790>,\n",
              "        <matplotlib.axes._subplots.AxesSubplot object at 0x7f5d294a4190>,\n",
              "        <matplotlib.axes._subplots.AxesSubplot object at 0x7f5d293ee4d0>,\n",
              "        <matplotlib.axes._subplots.AxesSubplot object at 0x7f5d29307990>],\n",
              "       [<matplotlib.axes._subplots.AxesSubplot object at 0x7f5d2933cfd0>,\n",
              "        <matplotlib.axes._subplots.AxesSubplot object at 0x7f5d292fe6d0>,\n",
              "        <matplotlib.axes._subplots.AxesSubplot object at 0x7f5d292b5dd0>,\n",
              "        <matplotlib.axes._subplots.AxesSubplot object at 0x7f5d292773d0>],\n",
              "       [<matplotlib.axes._subplots.AxesSubplot object at 0x7f5d29277410>,\n",
              "        <matplotlib.axes._subplots.AxesSubplot object at 0x7f5d2922db90>,\n",
              "        <matplotlib.axes._subplots.AxesSubplot object at 0x7f5d291a47d0>,\n",
              "        <matplotlib.axes._subplots.AxesSubplot object at 0x7f5d2915be50>],\n",
              "       [<matplotlib.axes._subplots.AxesSubplot object at 0x7f5d2911f510>,\n",
              "        <matplotlib.axes._subplots.AxesSubplot object at 0x7f5d290d2b90>,\n",
              "        <matplotlib.axes._subplots.AxesSubplot object at 0x7f5d29097250>,\n",
              "        <matplotlib.axes._subplots.AxesSubplot object at 0x7f5d2904c8d0>],\n",
              "       [<matplotlib.axes._subplots.AxesSubplot object at 0x7f5d29082f50>,\n",
              "        <matplotlib.axes._subplots.AxesSubplot object at 0x7f5d28fc4610>,\n",
              "        <matplotlib.axes._subplots.AxesSubplot object at 0x7f5d28ffcc90>,\n",
              "        <matplotlib.axes._subplots.AxesSubplot object at 0x7f5d28fbc350>]],\n",
              "      dtype=object)"
            ]
          },
          "metadata": {},
          "execution_count": 23
        },
        {
          "output_type": "display_data",
          "data": {
            "image/png": "[encoded data removed]",
            "text/plain": [
              "<Figure size 1440x1440 with 20 Axes>"
            ]
          },
          "metadata": {
            "needs_background": "light"
          }
        }
      ]
    },
    {
      "cell_type": "code",
      "metadata": {
        "id": "7aXK-sq61x1a"
      },
      "source": [
        "# fill null values by median, each column contains null values\n",
        "df.fillna(value=df.median(), inplace=True)"
      ],
      "execution_count": 24,
      "outputs": []
    },
    {
      "cell_type": "code",
      "metadata": {
        "id": "HgaerD1qt6UZ",
        "colab": {
          "base_uri": "https://localhost:8080/"
        },
        "outputId": "31788ca0-82b6-4522-986a-7e35301dd3d4"
      },
      "source": [
        "#test \n",
        "# After handle missing values\n",
        "#Looking out for missing values and handling them\n",
        "check_missing_values = df.isnull().sum()\n",
        "print(check_missing_values)"
      ],
      "execution_count": 25,
      "outputs": [
        {
          "output_type": "stream",
          "name": "stdout",
          "text": [
            "Country                              0\n",
            "Region                               0\n",
            "Population                           0\n",
            "Area, sq. km.                        0\n",
            "Pop. Density, per sq. km.            0\n",
            "Coastline (coast/area ratio)         0\n",
            "Net migration, %                     0\n",
            "Infant mortality, per 1000 births    0\n",
            "GDP, $ per capita                    0\n",
            "Literacy, %                          0\n",
            "Phones, per 1000                     0\n",
            "Arable, %                            0\n",
            "Crops, %                             0\n",
            "Other, %                             0\n",
            "Birthrate, per 1000 inhabitants      0\n",
            "Deathrate, per 1000 inhabitants      0\n",
            "Agriculture, %                       0\n",
            "Industry, %                          0\n",
            "Service, %                           0\n",
            "dtype: int64\n"
          ]
        }
      ]
    },
    {
      "cell_type": "markdown",
      "metadata": {
        "id": "FtwsuZAc3Rzd"
      },
      "source": [
        "**Outliers**"
      ]
    },
    {
      "cell_type": "code",
      "metadata": {
        "id": "Vu_dWfFMt6UZ",
        "colab": {
          "base_uri": "https://localhost:8080/",
          "height": 1000
        },
        "outputId": "b08630f7-7763-4f66-da2a-29557505a271"
      },
      "source": [
        "# check outlier to numerical data\n",
        "for col in df.columns[2:]:\n",
        "    sns.boxplot(df[col])\n",
        "    plt.show()"
      ],
      "execution_count": 26,
      "outputs": [
        {
          "output_type": "display_data",
          "data": {
            "image/png": "[encoded data removed]",
            "text/plain": [
              "<Figure size 432x288 with 1 Axes>"
            ]
          },
          "metadata": {
            "needs_background": "light"
          }
        },
        {
          "output_type": "display_data",
          "data": {
            "image/png": "[encoded data removed]",
            "text/plain": [
              "<Figure size 432x288 with 1 Axes>"
            ]
          },
          "metadata": {
            "needs_background": "light"
          }
        },
        {
          "output_type": "display_data",
          "data": {
            "image/png": "[encoded data removed]",
            "text/plain": [
              "<Figure size 432x288 with 1 Axes>"
            ]
          },
          "metadata": {
            "needs_background": "light"
          }
        },
        {
          "output_type": "display_data",
          "data": {
            "image/png": "[encoded data removed]",
            "text/plain": [
              "<Figure size 432x288 with 1 Axes>"
            ]
          },
          "metadata": {
            "needs_background": "light"
          }
        },
        {
          "output_type": "display_data",
          "data": {
            "image/png": "[encoded data removed]",
            "text/plain": [
              "<Figure size 432x288 with 1 Axes>"
            ]
          },
          "metadata": {
            "needs_background": "light"
          }
        },
        {
          "output_type": "display_data",
          "data": {
            "image/png": "[encoded data removed]",
            "text/plain": [
              "<Figure size 432x288 with 1 Axes>"
            ]
          },
          "metadata": {
            "needs_background": "light"
          }
        },
        {
          "output_type": "display_data",
          "data": {
            "image/png": "[encoded data removed]",
            "text/plain": [
              "<Figure size 432x288 with 1 Axes>"
            ]
          },
          "metadata": {
            "needs_background": "light"
          }
        },
        {
          "output_type": "display_data",
          "data": {
            "image/png": "[encoded data removed]",
            "text/plain": [
              "<Figure size 432x288 with 1 Axes>"
            ]
          },
          "metadata": {
            "needs_background": "light"
          }
        },
        {
          "output_type": "display_data",
          "data": {
            "image/png": "[encoded data removed]",
            "text/plain": [
              "<Figure size 432x288 with 1 Axes>"
            ]
          },
          "metadata": {
            "needs_background": "light"
          }
        },
        {
          "output_type": "display_data",
          "data": {
            "image/png": "[encoded data removed]",
            "text/plain": [
              "<Figure size 432x288 with 1 Axes>"
            ]
          },
          "metadata": {
            "needs_background": "light"
          }
        },
        {
          "output_type": "display_data",
          "data": {
            "image/png": "[encoded data removed]",
            "text/plain": [
              "<Figure size 432x288 with 1 Axes>"
            ]
          },
          "metadata": {
            "needs_background": "light"
          }
        },
        {
          "output_type": "display_data",
          "data": {
            "image/png": "[encoded data removed]",
            "text/plain": [
              "<Figure size 432x288 with 1 Axes>"
            ]
          },
          "metadata": {
            "needs_background": "light"
          }
        },
        {
          "output_type": "display_data",
          "data": {
            "image/png": "[encoded data removed]",
            "text/plain": [
              "<Figure size 432x288 with 1 Axes>"
            ]
          },
          "metadata": {
            "needs_background": "light"
          }
        },
        {
          "output_type": "display_data",
          "data": {
            "image/png": "[encoded data removed]",
            "text/plain": [
              "<Figure size 432x288 with 1 Axes>"
            ]
          },
          "metadata": {
            "needs_background": "light"
          }
        },
        {
          "output_type": "display_data",
          "data": {
            "image/png": "[encoded data removed]",
            "text/plain": [
              "<Figure size 432x288 with 1 Axes>"
            ]
          },
          "metadata": {
            "needs_background": "light"
          }
        },
        {
          "output_type": "display_data",
          "data": {
            "image/png": "[encoded data removed]",
            "text/plain": [
              "<Figure size 432x288 with 1 Axes>"
            ]
          },
          "metadata": {
            "needs_background": "light"
          }
        },
        {
          "output_type": "display_data",
          "data": {
            "image/png": "[encoded data removed]",
            "text/plain": [
              "<Figure size 432x288 with 1 Axes>"
            ]
          },
          "metadata": {
            "needs_background": "light"
          }
        }
      ]
    },
    {
      "cell_type": "code",
      "metadata": {
        "id": "JeRETI3Yt6UZ"
      },
      "source": [
        "# most columns contain outliers, but I drop outliers in some column \n",
        "# drop outliers                                     # after i did it , the shape of dataset is (5, 19)\n",
        "# df = df[df['Phones, per 1000']<900]\n",
        "# df = df[df['Agriculture, %'] < 0.48]\n",
        "# df = df[df['Service, %'] > 40]\n",
        "# df = df[df['Other, %'] > 40]\n",
        "# df = df[df['GDP, $ per capita']<38000] \n"
      ],
      "execution_count": null,
      "outputs": []
    },
    {
      "cell_type": "code",
      "metadata": {
        "id": "8GXVd3Jdt6Ua"
      },
      "source": [
        "#df.shape"
      ],
      "execution_count": null,
      "outputs": []
    },
    {
      "cell_type": "code",
      "metadata": {
        "id": "gNbssOqxt6Ua"
      },
      "source": [
        "# so must handle outliers by another way \n",
        "# drop columns \n",
        "#df = df.drop(columns=['Phones, per 1000', 'Agriculture, %', 'Service, %', 'Other, %', 'GDP, $ per capita'] , axis=1)"
      ],
      "execution_count": null,
      "outputs": []
    },
    {
      "cell_type": "code",
      "metadata": {
        "colab": {
          "base_uri": "https://localhost:8080/",
          "height": 374
        },
        "id": "CyzwRkMLpsqN",
        "outputId": "d21ede14-0286-4a0a-e02d-5b579bee7b8e"
      },
      "source": [
        "df.head()"
      ],
      "execution_count": 27,
      "outputs": [
        {
          "output_type": "execute_result",
          "data": {
            "text/html": [
              "<div>\n",
              "<style scoped>\n",
              "    .dataframe tbody tr th:only-of-type {\n",
              "        vertical-align: middle;\n",
              "    }\n",
              "\n",
              "    .dataframe tbody tr th {\n",
              "        vertical-align: top;\n",
              "    }\n",
              "\n",
              "    .dataframe thead th {\n",
              "        text-align: right;\n",
              "    }\n",
              "</style>\n",
              "<table border=\"1\" class=\"dataframe\">\n",
              "  <thead>\n",
              "    <tr style=\"text-align: right;\">\n",
              "      <th></th>\n",
              "      <th>Country</th>\n",
              "      <th>Region</th>\n",
              "      <th>Population</th>\n",
              "      <th>Area, sq. km.</th>\n",
              "      <th>Pop. Density, per sq. km.</th>\n",
              "      <th>Coastline (coast/area ratio)</th>\n",
              "      <th>Net migration, %</th>\n",
              "      <th>Infant mortality, per 1000 births</th>\n",
              "      <th>GDP, $ per capita</th>\n",
              "      <th>Literacy, %</th>\n",
              "      <th>Phones, per 1000</th>\n",
              "      <th>Arable, %</th>\n",
              "      <th>Crops, %</th>\n",
              "      <th>Other, %</th>\n",
              "      <th>Birthrate, per 1000 inhabitants</th>\n",
              "      <th>Deathrate, per 1000 inhabitants</th>\n",
              "      <th>Agriculture, %</th>\n",
              "      <th>Industry, %</th>\n",
              "      <th>Service, %</th>\n",
              "    </tr>\n",
              "  </thead>\n",
              "  <tbody>\n",
              "    <tr>\n",
              "      <th>0</th>\n",
              "      <td>Afghanistan</td>\n",
              "      <td>ASIA (EX. NEAR EAST)</td>\n",
              "      <td>31056997</td>\n",
              "      <td>647500</td>\n",
              "      <td>48.0</td>\n",
              "      <td>0.00</td>\n",
              "      <td>23.06</td>\n",
              "      <td>163.07</td>\n",
              "      <td>700.0</td>\n",
              "      <td>36.0</td>\n",
              "      <td>3.2</td>\n",
              "      <td>12.13</td>\n",
              "      <td>0.22</td>\n",
              "      <td>87.65</td>\n",
              "      <td>46.60</td>\n",
              "      <td>20.34</td>\n",
              "      <td>38.0</td>\n",
              "      <td>24.0</td>\n",
              "      <td>38.0</td>\n",
              "    </tr>\n",
              "    <tr>\n",
              "      <th>1</th>\n",
              "      <td>Albania</td>\n",
              "      <td>EASTERN EUROPE</td>\n",
              "      <td>3581655</td>\n",
              "      <td>28748</td>\n",
              "      <td>124.6</td>\n",
              "      <td>1.26</td>\n",
              "      <td>-4.93</td>\n",
              "      <td>21.52</td>\n",
              "      <td>4500.0</td>\n",
              "      <td>86.5</td>\n",
              "      <td>71.2</td>\n",
              "      <td>21.09</td>\n",
              "      <td>4.42</td>\n",
              "      <td>74.49</td>\n",
              "      <td>15.11</td>\n",
              "      <td>5.22</td>\n",
              "      <td>23.2</td>\n",
              "      <td>18.8</td>\n",
              "      <td>57.9</td>\n",
              "    </tr>\n",
              "    <tr>\n",
              "      <th>2</th>\n",
              "      <td>Algeria</td>\n",
              "      <td>NORTHERN AFRICA</td>\n",
              "      <td>32930091</td>\n",
              "      <td>2381740</td>\n",
              "      <td>13.8</td>\n",
              "      <td>0.04</td>\n",
              "      <td>-0.39</td>\n",
              "      <td>31.00</td>\n",
              "      <td>6000.0</td>\n",
              "      <td>70.0</td>\n",
              "      <td>78.1</td>\n",
              "      <td>3.22</td>\n",
              "      <td>0.25</td>\n",
              "      <td>96.53</td>\n",
              "      <td>17.14</td>\n",
              "      <td>4.61</td>\n",
              "      <td>10.1</td>\n",
              "      <td>60.0</td>\n",
              "      <td>29.8</td>\n",
              "    </tr>\n",
              "    <tr>\n",
              "      <th>3</th>\n",
              "      <td>American Samoa</td>\n",
              "      <td>OCEANIA</td>\n",
              "      <td>57794</td>\n",
              "      <td>199</td>\n",
              "      <td>290.4</td>\n",
              "      <td>58.29</td>\n",
              "      <td>-20.71</td>\n",
              "      <td>9.27</td>\n",
              "      <td>8000.0</td>\n",
              "      <td>97.0</td>\n",
              "      <td>259.5</td>\n",
              "      <td>10.00</td>\n",
              "      <td>15.00</td>\n",
              "      <td>75.00</td>\n",
              "      <td>22.46</td>\n",
              "      <td>3.27</td>\n",
              "      <td>9.9</td>\n",
              "      <td>27.2</td>\n",
              "      <td>57.1</td>\n",
              "    </tr>\n",
              "    <tr>\n",
              "      <th>4</th>\n",
              "      <td>Andorra</td>\n",
              "      <td>WESTERN EUROPE</td>\n",
              "      <td>71201</td>\n",
              "      <td>468</td>\n",
              "      <td>152.1</td>\n",
              "      <td>0.00</td>\n",
              "      <td>6.60</td>\n",
              "      <td>4.05</td>\n",
              "      <td>19000.0</td>\n",
              "      <td>100.0</td>\n",
              "      <td>497.2</td>\n",
              "      <td>2.22</td>\n",
              "      <td>0.00</td>\n",
              "      <td>97.78</td>\n",
              "      <td>8.71</td>\n",
              "      <td>6.25</td>\n",
              "      <td>9.9</td>\n",
              "      <td>27.2</td>\n",
              "      <td>57.1</td>\n",
              "    </tr>\n",
              "  </tbody>\n",
              "</table>\n",
              "</div>"
            ],
            "text/plain": [
              "           Country  ... Service, %\n",
              "0     Afghanistan   ...       38.0\n",
              "1         Albania   ...       57.9\n",
              "2         Algeria   ...       29.8\n",
              "3  American Samoa   ...       57.1\n",
              "4         Andorra   ...       57.1\n",
              "\n",
              "[5 rows x 19 columns]"
            ]
          },
          "metadata": {},
          "execution_count": 27
        }
      ]
    },
    {
      "cell_type": "markdown",
      "metadata": {
        "id": "zU6HTUh0DrTS"
      },
      "source": [
        "**Visualize and deal with categorical data**"
      ]
    },
    {
      "cell_type": "code",
      "metadata": {
        "colab": {
          "base_uri": "https://localhost:8080/"
        },
        "id": "Mex4-q14E244",
        "outputId": "44d450a7-1b59-408e-eff0-363f2f484445"
      },
      "source": [
        "df['Country'].value_counts()"
      ],
      "execution_count": 28,
      "outputs": [
        {
          "output_type": "execute_result",
          "data": {
            "text/plain": [
              "Moldova         1\n",
              "Grenada         1\n",
              "Reunion         1\n",
              "Syria           1\n",
              "Bulgaria        1\n",
              "               ..\n",
              "Mauritius       1\n",
              "Israel          1\n",
              "Jordan          1\n",
              "Gambia, The     1\n",
              "Ethiopia        1\n",
              "Name: Country, Length: 227, dtype: int64"
            ]
          },
          "metadata": {},
          "execution_count": 28
        }
      ]
    },
    {
      "cell_type": "code",
      "metadata": {
        "id": "WogZZWift6Ua",
        "colab": {
          "base_uri": "https://localhost:8080/",
          "height": 514
        },
        "outputId": "b5acc5cf-7ef6-47c9-c8a3-a4db11fa2019"
      },
      "source": [
        "plt.figure(figsize=(8,8))\n",
        "sns.histplot(df['Country'])"
      ],
      "execution_count": 29,
      "outputs": [
        {
          "output_type": "execute_result",
          "data": {
            "text/plain": [
              "<matplotlib.axes._subplots.AxesSubplot at 0x7f5d26bfddd0>"
            ]
          },
          "metadata": {},
          "execution_count": 29
        },
        {
          "output_type": "display_data",
          "data": {
            "image/png": "[encoded data removed]",
            "text/plain": [
              "<Figure size 576x576 with 1 Axes>"
            ]
          },
          "metadata": {
            "needs_background": "light"
          }
        }
      ]
    },
    {
      "cell_type": "code",
      "metadata": {
        "colab": {
          "base_uri": "https://localhost:8080/"
        },
        "id": "MDfhLszWFD3I",
        "outputId": "0688955e-467a-4cfc-df21-16d4ba0199ae"
      },
      "source": [
        "df['Region'].value_counts()"
      ],
      "execution_count": 30,
      "outputs": [
        {
          "output_type": "execute_result",
          "data": {
            "text/plain": [
              "SUB-SAHARAN AFRICA                     51\n",
              "LATIN AMER. & CARIB                    45\n",
              "ASIA (EX. NEAR EAST)                   28\n",
              "WESTERN EUROPE                         28\n",
              "OCEANIA                                21\n",
              "NEAR EAST                              16\n",
              "C.W. OF IND. STATES                    12\n",
              "EASTERN EUROPE                         12\n",
              "NORTHERN AFRICA                         6\n",
              "NORTHERN AMERICA                        5\n",
              "BALTICS                                 3\n",
              "Name: Region, dtype: int64"
            ]
          },
          "metadata": {},
          "execution_count": 30
        }
      ]
    },
    {
      "cell_type": "code",
      "metadata": {
        "colab": {
          "base_uri": "https://localhost:8080/",
          "height": 623
        },
        "id": "AN5LcrX1EnaD",
        "outputId": "455075ad-3ded-4791-d4eb-2115b2b4e87f"
      },
      "source": [
        "plt.figure(figsize=(10,10))\n",
        "sns.histplot(df['Region'])"
      ],
      "execution_count": 31,
      "outputs": [
        {
          "output_type": "execute_result",
          "data": {
            "text/plain": [
              "<matplotlib.axes._subplots.AxesSubplot at 0x7f5d26de7e10>"
            ]
          },
          "metadata": {},
          "execution_count": 31
        },
        {
          "output_type": "display_data",
          "data": {
            "image/png": "[encoded data removed]",
            "text/plain": [
              "<Figure size 720x720 with 1 Axes>"
            ]
          },
          "metadata": {
            "needs_background": "light"
          }
        }
      ]
    },
    {
      "cell_type": "markdown",
      "metadata": {
        "id": "40BoaD2At6Ua"
      },
      "source": [
        "## 4. <a name=\"4\">Features transformation</a>\n",
        "(<a href=\"#0\">Go to top</a>)"
      ]
    },
    {
      "cell_type": "markdown",
      "metadata": {
        "id": "4LSuzRaIt6Ua"
      },
      "source": [
        "*What is the feature scaling technique that would use and why?* <br>\n",
        "*return to this section again and try another technique and see how that will impact your result*<br>\n",
        "for more details on different methods for scaling check these links\n",
        "- https://scikit-learn.org/stable/modules/preprocessing.html#preprocessing\n",
        "- https://scikit-learn.org/stable/modules/classes.html#module-sklearn.preprocessing\n",
        "- https://www.analyticsvidhya.com/blog/2020/07/types-of-feature-transformation-and-scaling/"
      ]
    },
    {
      "cell_type": "code",
      "metadata": {
        "id": "t2Qjg0r8t6Ua"
      },
      "source": [
        "#drop two columns of categorical\n",
        "data = df.drop(columns= ['Country', 'Region'], axis=1)\n",
        " "
      ],
      "execution_count": 32,
      "outputs": []
    },
    {
      "cell_type": "code",
      "metadata": {
        "colab": {
          "base_uri": "https://localhost:8080/",
          "height": 274
        },
        "id": "xW2WQQjC0vMf",
        "outputId": "0bf10b43-b36d-46af-8067-82eee8e37784"
      },
      "source": [
        "data.head()"
      ],
      "execution_count": 33,
      "outputs": [
        {
          "output_type": "execute_result",
          "data": {
            "text/html": [
              "<div>\n",
              "<style scoped>\n",
              "    .dataframe tbody tr th:only-of-type {\n",
              "        vertical-align: middle;\n",
              "    }\n",
              "\n",
              "    .dataframe tbody tr th {\n",
              "        vertical-align: top;\n",
              "    }\n",
              "\n",
              "    .dataframe thead th {\n",
              "        text-align: right;\n",
              "    }\n",
              "</style>\n",
              "<table border=\"1\" class=\"dataframe\">\n",
              "  <thead>\n",
              "    <tr style=\"text-align: right;\">\n",
              "      <th></th>\n",
              "      <th>Population</th>\n",
              "      <th>Area, sq. km.</th>\n",
              "      <th>Pop. Density, per sq. km.</th>\n",
              "      <th>Coastline (coast/area ratio)</th>\n",
              "      <th>Net migration, %</th>\n",
              "      <th>Infant mortality, per 1000 births</th>\n",
              "      <th>GDP, $ per capita</th>\n",
              "      <th>Literacy, %</th>\n",
              "      <th>Phones, per 1000</th>\n",
              "      <th>Arable, %</th>\n",
              "      <th>Crops, %</th>\n",
              "      <th>Other, %</th>\n",
              "      <th>Birthrate, per 1000 inhabitants</th>\n",
              "      <th>Deathrate, per 1000 inhabitants</th>\n",
              "      <th>Agriculture, %</th>\n",
              "      <th>Industry, %</th>\n",
              "      <th>Service, %</th>\n",
              "    </tr>\n",
              "  </thead>\n",
              "  <tbody>\n",
              "    <tr>\n",
              "      <th>0</th>\n",
              "      <td>31056997</td>\n",
              "      <td>647500</td>\n",
              "      <td>48.0</td>\n",
              "      <td>0.00</td>\n",
              "      <td>23.06</td>\n",
              "      <td>163.07</td>\n",
              "      <td>700.0</td>\n",
              "      <td>36.0</td>\n",
              "      <td>3.2</td>\n",
              "      <td>12.13</td>\n",
              "      <td>0.22</td>\n",
              "      <td>87.65</td>\n",
              "      <td>46.60</td>\n",
              "      <td>20.34</td>\n",
              "      <td>38.0</td>\n",
              "      <td>24.0</td>\n",
              "      <td>38.0</td>\n",
              "    </tr>\n",
              "    <tr>\n",
              "      <th>1</th>\n",
              "      <td>3581655</td>\n",
              "      <td>28748</td>\n",
              "      <td>124.6</td>\n",
              "      <td>1.26</td>\n",
              "      <td>-4.93</td>\n",
              "      <td>21.52</td>\n",
              "      <td>4500.0</td>\n",
              "      <td>86.5</td>\n",
              "      <td>71.2</td>\n",
              "      <td>21.09</td>\n",
              "      <td>4.42</td>\n",
              "      <td>74.49</td>\n",
              "      <td>15.11</td>\n",
              "      <td>5.22</td>\n",
              "      <td>23.2</td>\n",
              "      <td>18.8</td>\n",
              "      <td>57.9</td>\n",
              "    </tr>\n",
              "    <tr>\n",
              "      <th>2</th>\n",
              "      <td>32930091</td>\n",
              "      <td>2381740</td>\n",
              "      <td>13.8</td>\n",
              "      <td>0.04</td>\n",
              "      <td>-0.39</td>\n",
              "      <td>31.00</td>\n",
              "      <td>6000.0</td>\n",
              "      <td>70.0</td>\n",
              "      <td>78.1</td>\n",
              "      <td>3.22</td>\n",
              "      <td>0.25</td>\n",
              "      <td>96.53</td>\n",
              "      <td>17.14</td>\n",
              "      <td>4.61</td>\n",
              "      <td>10.1</td>\n",
              "      <td>60.0</td>\n",
              "      <td>29.8</td>\n",
              "    </tr>\n",
              "    <tr>\n",
              "      <th>3</th>\n",
              "      <td>57794</td>\n",
              "      <td>199</td>\n",
              "      <td>290.4</td>\n",
              "      <td>58.29</td>\n",
              "      <td>-20.71</td>\n",
              "      <td>9.27</td>\n",
              "      <td>8000.0</td>\n",
              "      <td>97.0</td>\n",
              "      <td>259.5</td>\n",
              "      <td>10.00</td>\n",
              "      <td>15.00</td>\n",
              "      <td>75.00</td>\n",
              "      <td>22.46</td>\n",
              "      <td>3.27</td>\n",
              "      <td>9.9</td>\n",
              "      <td>27.2</td>\n",
              "      <td>57.1</td>\n",
              "    </tr>\n",
              "    <tr>\n",
              "      <th>4</th>\n",
              "      <td>71201</td>\n",
              "      <td>468</td>\n",
              "      <td>152.1</td>\n",
              "      <td>0.00</td>\n",
              "      <td>6.60</td>\n",
              "      <td>4.05</td>\n",
              "      <td>19000.0</td>\n",
              "      <td>100.0</td>\n",
              "      <td>497.2</td>\n",
              "      <td>2.22</td>\n",
              "      <td>0.00</td>\n",
              "      <td>97.78</td>\n",
              "      <td>8.71</td>\n",
              "      <td>6.25</td>\n",
              "      <td>9.9</td>\n",
              "      <td>27.2</td>\n",
              "      <td>57.1</td>\n",
              "    </tr>\n",
              "  </tbody>\n",
              "</table>\n",
              "</div>"
            ],
            "text/plain": [
              "   Population  Area, sq. km.  ...  Industry, %  Service, %\n",
              "0    31056997         647500  ...         24.0        38.0\n",
              "1     3581655          28748  ...         18.8        57.9\n",
              "2    32930091        2381740  ...         60.0        29.8\n",
              "3       57794            199  ...         27.2        57.1\n",
              "4       71201            468  ...         27.2        57.1\n",
              "\n",
              "[5 rows x 17 columns]"
            ]
          },
          "metadata": {},
          "execution_count": 33
        }
      ]
    },
    {
      "cell_type": "code",
      "metadata": {
        "colab": {
          "base_uri": "https://localhost:8080/"
        },
        "id": "j3w-ys2o6dM7",
        "outputId": "f9fed40a-2a2b-4758-cc2f-b0cd13abd6f7"
      },
      "source": [
        "data.shape"
      ],
      "execution_count": 34,
      "outputs": [
        {
          "output_type": "execute_result",
          "data": {
            "text/plain": [
              "(227, 17)"
            ]
          },
          "metadata": {},
          "execution_count": 34
        }
      ]
    },
    {
      "cell_type": "markdown",
      "metadata": {
        "id": "9p3z7x0712p4"
      },
      "source": [
        "## **Implement PCA**"
      ]
    },
    {
      "cell_type": "code",
      "metadata": {
        "id": "YuHiM08e11ur"
      },
      "source": [
        "def pca(X):\n",
        "  m, n = X.shape\n",
        "  #mean-centered vectors\n",
        "  X_n = X - np.mean(X , axis = 0) # axis= 0 to calculate mean by column \n",
        "  sigma = np.std(X, axis=0, ddof=1)\n",
        "  X_n = X_n / sigma\n",
        "\n",
        "  \n",
        "  ##(PCA calculates the covariance matrix)\n",
        "  cov_mat = np.cov(X_n , rowvar = False)\n",
        "  ##(calculates the eigenvectors and eigenvalues of the covariance matrix)\n",
        "  values , vectors = np.linalg.eig(cov_mat)\n",
        "\n",
        "  return X_n, values, vectors"
      ],
      "execution_count": 44,
      "outputs": []
    },
    {
      "cell_type": "code",
      "metadata": {
        "id": "si5abq866Ppo"
      },
      "source": [
        "X_n, values, vectors = pca(data)"
      ],
      "execution_count": 45,
      "outputs": []
    },
    {
      "cell_type": "code",
      "metadata": {
        "id": "tX9SxO3v-1Dp"
      },
      "source": [
        "normalized_egienvalus = values / np.sum(values)"
      ],
      "execution_count": 46,
      "outputs": []
    },
    {
      "cell_type": "code",
      "metadata": {
        "id": "e4k0x6NR_Lij"
      },
      "source": [
        "cum = np.cumsum(normalized_egienvalus)"
      ],
      "execution_count": 47,
      "outputs": []
    },
    {
      "cell_type": "code",
      "metadata": {
        "id": "P0NuHSn0_1jp"
      },
      "source": [
        "x_axis = np.arange(0, len(cum))\n",
        "y_axis = cum"
      ],
      "execution_count": 48,
      "outputs": []
    },
    {
      "cell_type": "code",
      "metadata": {
        "colab": {
          "base_uri": "https://localhost:8080/",
          "height": 282
        },
        "id": "TEI6zxt1AJKh",
        "outputId": "e660f246-49a7-4ddc-9f82-6417d5b69972"
      },
      "source": [
        "sns.barplot(x_axis, y_axis)\n",
        "plt.axhline(0.95)"
      ],
      "execution_count": 40,
      "outputs": [
        {
          "output_type": "execute_result",
          "data": {
            "text/plain": [
              "<matplotlib.lines.Line2D at 0x7f5d27115d90>"
            ]
          },
          "metadata": {},
          "execution_count": 40
        },
        {
          "output_type": "display_data",
          "data": {
            "image/png": "[encoded data removed]",
            "text/plain": [
              "<Figure size 432x288 with 1 Axes>"
            ]
          },
          "metadata": {
            "needs_background": "light"
          }
        }
      ]
    },
    {
      "cell_type": "code",
      "metadata": {
        "colab": {
          "base_uri": "https://localhost:8080/"
        },
        "id": "3PIc5Ie36WsO",
        "outputId": "9e30ccaf-69b5-4fb3-bdc0-41b720317d39"
      },
      "source": [
        "print(vectors.shape)"
      ],
      "execution_count": 41,
      "outputs": [
        {
          "output_type": "stream",
          "name": "stdout",
          "text": [
            "(17, 17)\n"
          ]
        }
      ]
    },
    {
      "cell_type": "code",
      "metadata": {
        "colab": {
          "base_uri": "https://localhost:8080/"
        },
        "id": "DsXQHPPQDtYk",
        "outputId": "5dca894a-eb18-43b9-d0ee-cbf7bc7ea29f"
      },
      "source": [
        "data_pca = X_n @ vectors[:, 0:11]\n",
        "print(data_pca.head())"
      ],
      "execution_count": 42,
      "outputs": [
        {
          "output_type": "stream",
          "name": "stdout",
          "text": [
            "         0         1         2   ...        8         9         10\n",
            "0  5.004549  2.477787 -0.547075  ...  0.041177  0.084731 -1.038807\n",
            "1  0.041212 -1.282139 -0.057412  ...  0.389389 -0.446031 -0.094727\n",
            "2  0.817249  1.590077  1.531121  ...  0.228956 -0.297287  0.127507\n",
            "3 -0.599210 -2.520155 -0.520102  ... -0.380323  0.226108  1.301372\n",
            "4 -2.142335  1.704073 -0.345428  ...  0.565712 -0.670411  0.323055\n",
            "\n",
            "[5 rows x 11 columns]\n"
          ]
        }
      ]
    },
    {
      "cell_type": "code",
      "metadata": {
        "id": "Iz0mHVilE03J"
      },
      "source": [
        "df_new = pd.DataFrame(data_pca)\n",
        "df_new.to_csv('pca.csv')"
      ],
      "execution_count": 43,
      "outputs": []
    },
    {
      "cell_type": "markdown",
      "metadata": {
        "id": "AYUuIQLPrb2l"
      },
      "source": [
        "## **implement DBSCAN**"
      ]
    },
    {
      "cell_type": "code",
      "metadata": {
        "id": "Tmm6jeGyskK9"
      },
      "source": [
        "import warnings\n",
        "warnings.filterwarnings('ignore')\n",
        "\n",
        "import pandas as pd\n",
        "import numpy as np\n",
        "from plotnine import *\n",
        "from sklearn.preprocessing import StandardScaler\n",
        "from sklearn.neighbors import NearestNeighbors\n",
        "\n",
        "from sklearn.cluster import DBSCAN\n",
        "\n",
        "\n",
        "from sklearn.cluster import KMeans\n",
        "from sklearn.mixture import GaussianMixture\n",
        "\n",
        "from sklearn.metrics import silhouette_score\n"
      ],
      "execution_count": null,
      "outputs": []
    },
    {
      "cell_type": "markdown",
      "metadata": {
        "id": "xsq10Ddks6e3"
      },
      "source": [
        "# without pca"
      ]
    },
    {
      "cell_type": "code",
      "metadata": {
        "id": "j6vbeZg8uLg-"
      },
      "source": [
        "z = StandardScaler()\n",
        "data = z.fit_transform(data)"
      ],
      "execution_count": null,
      "outputs": []
    },
    {
      "cell_type": "code",
      "metadata": {
        "id": "0-YwlVLXrQ1h"
      },
      "source": [
        "# we ask for mins + 1 nearest, because the data point it self (distance = 0) is included\n",
        "mins = 2\n",
        "nn = NearestNeighbors(mins + 1)\n",
        "\n",
        "nn.fit(data)\n",
        "\n",
        "distances, neighbors = nn.kneighbors(data)\n",
        "\n",
        "#distances"
      ],
      "execution_count": null,
      "outputs": []
    },
    {
      "cell_type": "code",
      "metadata": {
        "id": "lWNdIZFztATM"
      },
      "source": [
        "# sort the distances\n",
        "distances = np.sort(distances[:, mins], axis = 0)"
      ],
      "execution_count": null,
      "outputs": []
    },
    {
      "cell_type": "code",
      "metadata": {
        "colab": {
          "base_uri": "https://localhost:8080/",
          "height": 503
        },
        "id": "8amNCJQstKsE",
        "outputId": "6ce4fa54-423f-4520-e4f8-621588a8b5fe"
      },
      "source": [
        "#plot the distances\n",
        "distances_df = pd.DataFrame({\"distances\": distances,\n",
        "                             \"index\": list(range(0,len(distances)))})\n",
        "plt = (ggplot(distances_df, aes(x = \"index\", y = \"distances\")) +\n",
        " geom_line(color = \"white\", size = 2) + theme_minimal() +\n",
        " labs(title = \"Elbow Method for Choosing eps\") +\n",
        " theme(panel_grid_minor = element_blank(),\n",
        "      rect = element_rect(fill = \"#202124ff\"),\n",
        "      axis_text = element_text(color = \"white\"),\n",
        "      axis_title = element_text(color = \"white\"),\n",
        "      plot_title = element_text(color = \"white\"),\n",
        "      panel_border = element_line(color = \"darkgray\"),\n",
        "      plot_background = element_rect(fill = \"#202124ff\")\n",
        "      ))\n",
        "ggsave(plot=plt, filename='elbow.png', dpi=300)\n",
        "\n",
        "plt"
      ],
      "execution_count": null,
      "outputs": [
        {
          "output_type": "display_data",
          "data": {
            "image/png": "[encoded data removed]",
            "text/plain": [
              "<Figure size 640x480 with 1 Axes>"
            ]
          },
          "metadata": {}
        },
        {
          "output_type": "execute_result",
          "data": {
            "text/plain": [
              "<ggplot: (8753229737185)>"
            ]
          },
          "metadata": {},
          "execution_count": 51
        }
      ]
    },
    {
      "cell_type": "code",
      "metadata": {
        "colab": {
          "base_uri": "https://localhost:8080/"
        },
        "id": "A4kvhuavt3wA",
        "outputId": "a647e7c7-3fbd-4b28-f341-16aefc2c1c7e"
      },
      "source": [
        "db6 = DBSCAN(eps = 3, min_samples = 2).fit(data)\n",
        "\n",
        "# labsList = [\"Noise\"]\n",
        "# labsList = labsList  + [\"Cluster \" + str(i) for i in range(1,len(set(db6.labels_)))]\n",
        "\n",
        "# print(db6.labels_)\n",
        "print(set(db6.labels_))"
      ],
      "execution_count": null,
      "outputs": [
        {
          "output_type": "stream",
          "name": "stdout",
          "text": [
            "{0, 1, 2, 3, 4, -1}\n"
          ]
        }
      ]
    },
    {
      "cell_type": "code",
      "metadata": {
        "colab": {
          "base_uri": "https://localhost:8080/"
        },
        "id": "ys4itgbKweiO",
        "outputId": "66eb0309-d044-4436-c4fa-2934b9932f8b"
      },
      "source": [
        "print(sum(db6.labels_ == -1))"
      ],
      "execution_count": null,
      "outputs": [
        {
          "output_type": "stream",
          "name": "stdout",
          "text": [
            "18\n"
          ]
        }
      ]
    },
    {
      "cell_type": "code",
      "metadata": {
        "colab": {
          "base_uri": "https://localhost:8080/"
        },
        "id": "1PEvyIQLxDVI",
        "outputId": "03aa6f7a-dd8d-48a3-c339-1ce37eb7c5a1"
      },
      "source": [
        "print(sum(db6.labels_ == 1))"
      ],
      "execution_count": null,
      "outputs": [
        {
          "output_type": "stream",
          "name": "stdout",
          "text": [
            "2\n"
          ]
        }
      ]
    },
    {
      "cell_type": "code",
      "metadata": {
        "colab": {
          "base_uri": "https://localhost:8080/"
        },
        "id": "80fAshh4xGqa",
        "outputId": "69ab020d-67e6-493e-9d5f-b1e187362817"
      },
      "source": [
        "print(sum(db6.labels_ == 0))"
      ],
      "execution_count": null,
      "outputs": [
        {
          "output_type": "stream",
          "name": "stdout",
          "text": [
            "199\n"
          ]
        }
      ]
    },
    {
      "cell_type": "code",
      "metadata": {
        "colab": {
          "base_uri": "https://localhost:8080/"
        },
        "id": "Fh6WjfcOxJ2R",
        "outputId": "d2a054e8-d535-45aa-977f-8f6619514c0e"
      },
      "source": [
        "print(sum(db6.labels_ == 2))"
      ],
      "execution_count": null,
      "outputs": [
        {
          "output_type": "stream",
          "name": "stdout",
          "text": [
            "2\n"
          ]
        }
      ]
    },
    {
      "cell_type": "code",
      "metadata": {
        "colab": {
          "base_uri": "https://localhost:8080/"
        },
        "id": "B67CSnikzxKC",
        "outputId": "2d22e084-eead-4e45-da01-68b1de9a4a9d"
      },
      "source": [
        "db6 = DBSCAN(eps = 2.8, min_samples = 2).fit(data)\n",
        "\n",
        "# labsList = [\"Noise\"]\n",
        "# labsList = labsList  + [\"Cluster \" + str(i) for i in range(1,len(set(db6.labels_)))]\n",
        "\n",
        "# print(db6.labels_)\n",
        "print(set(db6.labels_))"
      ],
      "execution_count": null,
      "outputs": [
        {
          "output_type": "stream",
          "name": "stdout",
          "text": [
            "{0, 1, 2, 3, -1}\n"
          ]
        }
      ]
    },
    {
      "cell_type": "code",
      "metadata": {
        "colab": {
          "base_uri": "https://localhost:8080/"
        },
        "id": "pFHN_EK10X3-",
        "outputId": "2b4dc978-d20d-470d-d1d2-0f5bded02c64"
      },
      "source": [
        "print(sum(db6.labels_ == 1))"
      ],
      "execution_count": null,
      "outputs": [
        {
          "output_type": "stream",
          "name": "stdout",
          "text": [
            "2\n"
          ]
        }
      ]
    },
    {
      "cell_type": "code",
      "metadata": {
        "colab": {
          "base_uri": "https://localhost:8080/"
        },
        "id": "KDle3w3X0hon",
        "outputId": "c111c054-34a2-4a01-c545-df8d1cc98301"
      },
      "source": [
        "print(sum(db6.labels_ == 0))"
      ],
      "execution_count": null,
      "outputs": [
        {
          "output_type": "stream",
          "name": "stdout",
          "text": [
            "197\n"
          ]
        }
      ]
    },
    {
      "cell_type": "code",
      "metadata": {
        "colab": {
          "base_uri": "https://localhost:8080/"
        },
        "id": "7wChUjm_0yc4",
        "outputId": "3a3df1ff-9902-4e6c-9c93-7bfd9bfb5a3e"
      },
      "source": [
        "print(sum(db6.labels_ == -1))"
      ],
      "execution_count": null,
      "outputs": [
        {
          "output_type": "stream",
          "name": "stdout",
          "text": [
            "22\n"
          ]
        }
      ]
    },
    {
      "cell_type": "code",
      "metadata": {
        "colab": {
          "base_uri": "https://localhost:8080/"
        },
        "id": "YvDw7CDA24Cz",
        "outputId": "08a340d1-58cf-44d7-8f74-5cab20638674"
      },
      "source": [
        "print(sum(db6.labels_ == 3))"
      ],
      "execution_count": null,
      "outputs": [
        {
          "output_type": "stream",
          "name": "stdout",
          "text": [
            "2\n"
          ]
        }
      ]
    },
    {
      "cell_type": "code",
      "metadata": {
        "colab": {
          "base_uri": "https://localhost:8080/"
        },
        "id": "wWaqpAvb4HBh",
        "outputId": "614f1cc3-fadb-451e-a23c-702de68c5150"
      },
      "source": [
        "# to measure performance by Silhouette_Score\n",
        "metrics.silhouette_score(data, db6.labels_)"
      ],
      "execution_count": null,
      "outputs": [
        {
          "output_type": "execute_result",
          "data": {
            "text/plain": [
              "0.1691060943778179"
            ]
          },
          "metadata": {},
          "execution_count": 62
        }
      ]
    },
    {
      "cell_type": "markdown",
      "metadata": {
        "id": "PDI8hkRX4cbe"
      },
      "source": [
        "## **With PCA**"
      ]
    },
    {
      "cell_type": "code",
      "metadata": {
        "id": "o5r6h5nR4bCv"
      },
      "source": [
        "pca_data = pd.read_csv('pca.csv')"
      ],
      "execution_count": null,
      "outputs": []
    },
    {
      "cell_type": "code",
      "metadata": {
        "id": "PVMAGULn7POa"
      },
      "source": [
        "# we ask for mins + 1 nearest, because the data point it self (distance = 0) is included\n",
        "mins = 3\n",
        "nn = NearestNeighbors(mins + 1)\n",
        "\n",
        "nn.fit(pca_data)\n",
        "\n",
        "distances, neighbors = nn.kneighbors(pca_data)\n",
        "\n",
        "#distances"
      ],
      "execution_count": null,
      "outputs": []
    },
    {
      "cell_type": "code",
      "metadata": {
        "id": "WZzzhaqF7aUH"
      },
      "source": [
        "# sort the distances\n",
        "distances = np.sort(distances[:, mins], axis = 0)"
      ],
      "execution_count": null,
      "outputs": []
    },
    {
      "cell_type": "code",
      "metadata": {
        "colab": {
          "base_uri": "https://localhost:8080/"
        },
        "id": "d2IysFqm7f_n",
        "outputId": "ef08c5ab-47a1-4b78-8a86-6019b9b75e55"
      },
      "source": [
        "#plot the distances\n",
        "distances_df = pd.DataFrame({\"distances\": distances,\n",
        "                             \"index\": list(range(0,len(distances)))})\n",
        "plt = (ggplot(distances_df, aes(x = \"index\", y = \"distances\")) +\n",
        " geom_line(color = \"white\", size = 2) + theme_minimal() +\n",
        " labs(title = \"Elbow Method for Choosing eps\") +\n",
        " theme(panel_grid_minor = element_blank(),\n",
        "      rect = element_rect(fill = \"#202124ff\"),\n",
        "      axis_text = element_text(color = \"white\"),\n",
        "      axis_title = element_text(color = \"white\"),\n",
        "      plot_title = element_text(color = \"white\"),\n",
        "      panel_border = element_line(color = \"darkgray\"),\n",
        "      plot_background = element_rect(fill = \"#202124ff\")\n",
        "      ))\n",
        "ggsave(plot=plt, filename='elbow.png', dpi=300)\n",
        "\n",
        "plt"
      ],
      "execution_count": null,
      "outputs": [
        {
          "output_type": "display_data",
          "data": {
            "image/png": "[encoded data removed]",
            "text/plain": [
              "<Figure size 640x480 with 1 Axes>"
            ]
          },
          "metadata": {}
        },
        {
          "output_type": "execute_result",
          "data": {
            "text/plain": [
              "<ggplot: (8753229717385)>"
            ]
          },
          "metadata": {},
          "execution_count": 66
        }
      ]
    },
    {
      "cell_type": "code",
      "metadata": {
        "id": "exNvw-j450Cc"
      },
      "source": [
        "db6_pca = DBSCAN(eps = 5.3, min_samples = 3).fit(pca_data)"
      ],
      "execution_count": null,
      "outputs": []
    },
    {
      "cell_type": "code",
      "metadata": {
        "colab": {
          "base_uri": "https://localhost:8080/"
        },
        "id": "thQr44JJ6Js7",
        "outputId": "f8c31534-5c3f-4378-8933-1c4dafcb9d42"
      },
      "source": [
        "print(set(db6_pca.labels_))"
      ],
      "execution_count": null,
      "outputs": [
        {
          "output_type": "stream",
          "name": "stdout",
          "text": [
            "{0, 1, 2, 3, 4, -1}\n"
          ]
        }
      ]
    },
    {
      "cell_type": "code",
      "metadata": {
        "colab": {
          "base_uri": "https://localhost:8080/"
        },
        "id": "L3LjJYe673oJ",
        "outputId": "fefcad57-e463-4d22-aa72-016961968b79"
      },
      "source": [
        "print(sum(db6.labels_ == 0))"
      ],
      "execution_count": null,
      "outputs": [
        {
          "output_type": "stream",
          "name": "stdout",
          "text": [
            "197\n"
          ]
        }
      ]
    },
    {
      "cell_type": "code",
      "metadata": {
        "colab": {
          "base_uri": "https://localhost:8080/"
        },
        "id": "LgwRK7LO76ce",
        "outputId": "6c895e35-c76d-4359-cdc4-2e0fd8eafceb"
      },
      "source": [
        "print(sum(db6.labels_ == 3))"
      ],
      "execution_count": null,
      "outputs": [
        {
          "output_type": "stream",
          "name": "stdout",
          "text": [
            "2\n"
          ]
        }
      ]
    },
    {
      "cell_type": "code",
      "metadata": {
        "colab": {
          "base_uri": "https://localhost:8080/"
        },
        "id": "i6gZ4hZm57n3",
        "outputId": "d06c6516-11e9-434f-ba26-9cd166bfd985"
      },
      "source": [
        "# to measure performance by Silhouette_Score\n",
        "metrics.silhouette_score(pca_data, db6_pca.labels_)"
      ],
      "execution_count": null,
      "outputs": [
        {
          "output_type": "execute_result",
          "data": {
            "text/plain": [
              "0.29327626438877946"
            ]
          },
          "metadata": {},
          "execution_count": 71
        }
      ]
    }
  ]
}